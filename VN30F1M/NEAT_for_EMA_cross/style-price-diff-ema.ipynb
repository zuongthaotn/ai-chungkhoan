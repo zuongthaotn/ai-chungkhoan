{
 "cells": [
  {
   "cell_type": "markdown",
   "id": "3bb3aa97-7914-4430-8beb-3faa67ba7dad",
   "metadata": {},
   "source": [
    "# Detecting EMA cross traps by using NEAT"
   ]
  },
  {
   "cell_type": "markdown",
   "id": "b4a3e1b0-889f-40f5-bfe1-ca5391c2a7ba",
   "metadata": {},
   "source": [
    "### Import Library"
   ]
  },
  {
   "cell_type": "code",
   "execution_count": 12,
   "id": "8ed51685-7682-46ce-9ab2-df7a6f6937c5",
   "metadata": {},
   "outputs": [],
   "source": [
    "import numpy as np\n",
    "import pandas as pd\n",
    "import numpy as np\n",
    "import pandas_ta as ta\n",
    "import seaborn as sns\n",
    "import os\n",
    "\n",
    "import matplotlib.pyplot as plt\n",
    "plt.rcParams['figure.figsize'] = [12, 6]\n",
    "plt.rcParams['figure.dpi'] = 120\n",
    "import warnings\n",
    "warnings.filterwarnings('ignore')"
   ]
  },
  {
   "cell_type": "code",
   "execution_count": 13,
   "id": "ce4c39f7-1d51-4cb9-b4e0-7b33a2c253c7",
   "metadata": {},
   "outputs": [],
   "source": [
    "from sklearn.model_selection import train_test_split\n",
    "from sklearn.metrics import accuracy_score, classification_report\n",
    "import neat"
   ]
  },
  {
   "cell_type": "markdown",
   "id": "fe85b31e-7106-4979-aba2-03093ade02ca",
   "metadata": {},
   "source": [
    "### Load Price Data"
   ]
  },
  {
   "cell_type": "code",
   "execution_count": 14,
   "id": "0f3bf6f4-aeb4-404e-932a-9afef6ea370a",
   "metadata": {},
   "outputs": [],
   "source": [
    "import os\n",
    "from pathlib import Path\n",
    "notebook_path = os.getcwd()\n",
    "current_dir = Path(notebook_path)\n",
    "csv_file = str(current_dir.parent) + '/VN30F1M_5minutes.csv'\n",
    "is_file = os.path.isfile(csv_file)\n",
    "if is_file:\n",
    "    dataset = pd.read_csv(csv_file, index_col='Date', parse_dates=True)\n",
    "else:\n",
    "    print(csv_file)\n",
    "    print('remote')\n",
    "    dataset = pd.read_csv(\"https://raw.githubusercontent.com/zuongthaotn/vn-stock-data/main/VN30ps/VN30F1M_5minutes.csv\", index_col='Date', parse_dates=True)"
   ]
  },
  {
   "cell_type": "code",
   "execution_count": 15,
   "id": "eff99ef6-2921-4245-b40d-eb6ecee0bc12",
   "metadata": {},
   "outputs": [],
   "source": [
    "data = dataset.copy()"
   ]
  },
  {
   "cell_type": "code",
   "execution_count": 16,
   "id": "7e8d5fbf-d32e-40e3-81e9-9698c0052b43",
   "metadata": {},
   "outputs": [],
   "source": [
    "data = data[data.index > '2020-11-01 00:00:00']"
   ]
  },
  {
   "cell_type": "code",
   "execution_count": 17,
   "id": "a7b549f4-98d8-4565-b092-3a49ba96d93a",
   "metadata": {},
   "outputs": [],
   "source": [
    "data[\"ema_fast\"] = ta.ema(data[\"Close\"], length=20)\n",
    "data[\"ema_low\"] = ta.ema(data[\"Close\"], length=250)\n",
    "data[\"ema_cross\"] = ((data[\"ema_fast\"] > data[\"ema_low\"]) & (data[\"ema_fast\"].shift(1) <= data[\"ema_low\"].shift(1)) | (data[\"ema_fast\"] < data[\"ema_low\"]) & (data[\"ema_fast\"].shift(1) >= data[\"ema_low\"].shift(1)))"
   ]
  },
  {
   "cell_type": "markdown",
   "id": "36ae9558-651e-4c0b-863d-3c6aac1f11a7",
   "metadata": {},
   "source": [
    "## Calculate some common features"
   ]
  },
  {
   "cell_type": "code",
   "execution_count": 18,
   "id": "162de05d-37ab-4939-8f99-eeab9050eeed",
   "metadata": {},
   "outputs": [],
   "source": [
    "data[\"ATR\"] = ta.atr(data[\"High\"], data[\"Low\"], data[\"Close\"], length=14)  # Volatility\n",
    "data[\"RSI\"] = ta.rsi(data[\"Close\"], length=14)  # Momentum indicator"
   ]
  },
  {
   "cell_type": "markdown",
   "id": "d2a773be-626e-4319-bb79-9d7de1fc47fc",
   "metadata": {},
   "source": [
    "## TRAP labeling"
   ]
  },
  {
   "cell_type": "code",
   "execution_count": 19,
   "id": "5db75eb0-0a1e-4262-b6ce-47a8e913a8eb",
   "metadata": {},
   "outputs": [],
   "source": [
    "def is_trap(r):\n",
    "    trap = ''\n",
    "    if r['ema_cross'] == True:\n",
    "        if r['ema_fast'] > r['ema_low']:\n",
    "            # Cross up\n",
    "            if r['min_low_1dlater'] < r['Close'] - 3.5:\n",
    "                trap = 1\n",
    "            else:\n",
    "                trap = 0\n",
    "        else:\n",
    "            # Cross down\n",
    "            if r['max_high_1dlater'] > r['Close'] + 3.5:\n",
    "                trap = 1\n",
    "            else:\n",
    "                trap = 0\n",
    "    return trap"
   ]
  },
  {
   "cell_type": "code",
   "execution_count": 20,
   "id": "6f858728-b6dd-432d-a54f-4c2f0e41b393",
   "metadata": {},
   "outputs": [],
   "source": [
    "data['max_high_1dlater'] = data['High'].shift(-51).rolling(51).max()\n",
    "data['min_low_1dlater'] = data['Low'].shift(-51).rolling(51).min()\n",
    "data['trap'] = data.apply(lambda r: is_trap(r), axis=1)"
   ]
  },
  {
   "cell_type": "code",
   "execution_count": 21,
   "id": "3cd4718a-39db-49a4-ad75-55ad058acf30",
   "metadata": {},
   "outputs": [],
   "source": [
    "# cross_data = data[data.ema_cross == True]\n",
    "# len(cross_data[cross_data.trap == 0]) / len(cross_data['trap'])"
   ]
  },
  {
   "cell_type": "markdown",
   "id": "517926f6-a064-4761-a2f9-15eb913ea31c",
   "metadata": {},
   "source": [
    "## Features"
   ]
  },
  {
   "cell_type": "code",
   "execution_count": 22,
   "id": "795dc77f-ac82-4d8a-9e69-acccdf3440d8",
   "metadata": {},
   "outputs": [],
   "source": [
    "data['diff_ema'] = data['Close'] - data['ema_fast']\n",
    "data['diff_ema_s1'] = data['diff_ema'].shift(1)\n",
    "data['diff_ema_s2'] = data['diff_ema'].shift(2)\n",
    "data['diff_ema_s3'] = data['diff_ema'].shift(3)\n",
    "data['diff_ema_s4'] = data['diff_ema'].shift(4)\n",
    "data['diff_ema_s5'] = data['diff_ema'].shift(5)\n",
    "data['diff_ema_s6'] = data['diff_ema'].shift(6)\n",
    "data['diff_ema_s7'] = data['diff_ema'].shift(7)\n",
    "data['diff_ema_s8'] = data['diff_ema'].shift(8)\n",
    "cross_up_data = data[(data.ema_cross == True) & (data.ema_fast > data.ema_low)]\n",
    "cross_up_data.dropna(inplace=True)"
   ]
  },
  {
   "cell_type": "code",
   "execution_count": 23,
   "id": "ff4f1391-31a9-4453-95b8-a3d4f3dab1fb",
   "metadata": {},
   "outputs": [
    {
     "data": {
      "text/plain": [
       "181"
      ]
     },
     "execution_count": 23,
     "metadata": {},
     "output_type": "execute_result"
    }
   ],
   "source": [
    "len(cross_up_data)"
   ]
  },
  {
   "cell_type": "code",
   "execution_count": 24,
   "id": "5ae0161d-c970-4a99-9f98-c3e3e6250003",
   "metadata": {},
   "outputs": [],
   "source": [
    "X = cross_up_data[['diff_ema', 'diff_ema_s1', 'diff_ema_s2', 'diff_ema_s3', 'diff_ema_s4', 'diff_ema_s5', 'diff_ema_s6', 'diff_ema_s7', 'diff_ema_s8', \"trap\"]]\n",
    "\n",
    "# Train-Test Split\n",
    "X_train, X_test = train_test_split(X, test_size=0.25, random_state=42)"
   ]
  },
  {
   "cell_type": "code",
   "execution_count": 25,
   "id": "ea33cb8e-27f6-4ec3-8c1c-ea22bfe1a964",
   "metadata": {},
   "outputs": [
    {
     "data": {
      "text/plain": [
       "135"
      ]
     },
     "execution_count": 25,
     "metadata": {},
     "output_type": "execute_result"
    }
   ],
   "source": [
    "len(X_train)"
   ]
  },
  {
   "cell_type": "code",
   "execution_count": 26,
   "id": "98189ed7-6d07-480b-9df5-d835d6dc869c",
   "metadata": {},
   "outputs": [
    {
     "data": {
      "text/plain": [
       "46"
      ]
     },
     "execution_count": 26,
     "metadata": {},
     "output_type": "execute_result"
    }
   ],
   "source": [
    "len(X_test)"
   ]
  },
  {
   "cell_type": "code",
   "execution_count": 27,
   "id": "b2dc062f-8f5f-46a9-9a44-c560cf47708c",
   "metadata": {},
   "outputs": [],
   "source": [
    "def eval_genomes(genomes, config):\n",
    "    for genome_id, genome in genomes:\n",
    "        genome.fitness = 4.0\n",
    "        net = neat.nn.FeedForwardNetwork.create(genome, config)\n",
    "        for move_index, row in X_train.iterrows():\n",
    "            inputs = [row['diff_ema'], row['diff_ema_s1'], row['diff_ema_s2'], row['diff_ema_s3'], row['diff_ema_s4'], row[\"diff_ema_s5\"], row[\"diff_ema_s6\"], row[\"diff_ema_s7\"], row[\"diff_ema_s8\"]]\n",
    "            expected_output = row['trap']\n",
    "            output = net.activate(inputs)\n",
    "            genome.fitness -= (output[0] - expected_output) ** 2\n",
    "\n",
    "\n",
    "def run(config_file):\n",
    "    # Load configuration.\n",
    "    config = neat.Config(neat.DefaultGenome, neat.DefaultReproduction,\n",
    "                         neat.DefaultSpeciesSet, neat.DefaultStagnation,\n",
    "                         config_file)\n",
    "\n",
    "    # Create the population, which is the top-level object for a NEAT run.\n",
    "    p = neat.Population(config)\n",
    "\n",
    "    # Add a stdout reporter to show progress in the terminal.\n",
    "    # p.add_reporter(neat.StdOutReporter(True))\n",
    "    # stats = neat.StatisticsReporter()\n",
    "    # p.add_reporter(stats)\n",
    "\n",
    "    # Run for up to 100 generations.\n",
    "    winner = p.run(eval_genomes, 100)\n",
    "\n",
    "    # Display the winning genome.\n",
    "    print('\\nBest genome:\\n{!s}'.format(winner))\n",
    "    return neat.nn.FeedForwardNetwork.create(winner, config)"
   ]
  },
  {
   "cell_type": "code",
   "execution_count": 28,
   "id": "1051a537-af40-482d-95a0-9a935cd5c77f",
   "metadata": {},
   "outputs": [
    {
     "name": "stdout",
     "output_type": "stream",
     "text": [
      "\n",
      "Best genome:\n",
      "Key: 14038\n",
      "Fitness: -25.799271944390664\n",
      "Nodes:\n",
      "\t0 DefaultNodeGene(key=0, bias=0.11949945242186549, response=1.0, activation=sigmoid, aggregation=sum)\n",
      "\t1754 DefaultNodeGene(key=1754, bias=-0.8978117199083647, response=1.0, activation=sigmoid, aggregation=sum)\n",
      "\t1831 DefaultNodeGene(key=1831, bias=-0.6467929946651705, response=1.0, activation=sigmoid, aggregation=sum)\n",
      "\t1974 DefaultNodeGene(key=1974, bias=1.9614069725463672, response=1.0, activation=sigmoid, aggregation=sum)\n",
      "\t2005 DefaultNodeGene(key=2005, bias=-1.8172030343573367, response=1.0, activation=sigmoid, aggregation=sum)\n",
      "\t2282 DefaultNodeGene(key=2282, bias=-1.7796437147318833, response=1.0, activation=sigmoid, aggregation=sum)\n",
      "\t2664 DefaultNodeGene(key=2664, bias=-2.4562654642888444, response=1.0, activation=sigmoid, aggregation=sum)\n",
      "Connections:\n",
      "\tDefaultConnectionGene(key=(-9, 1974), weight=-3.116061096229862, enabled=True)\n",
      "\tDefaultConnectionGene(key=(-9, 2282), weight=-0.35046993945627947, enabled=True)\n",
      "\tDefaultConnectionGene(key=(-7, 1754), weight=-2.034766878689033, enabled=False)\n",
      "\tDefaultConnectionGene(key=(-7, 1974), weight=-0.028488096809804436, enabled=True)\n",
      "\tDefaultConnectionGene(key=(-5, 2005), weight=-1.4010913054710847, enabled=True)\n",
      "\tDefaultConnectionGene(key=(-5, 2664), weight=0.927662057054879, enabled=True)\n",
      "\tDefaultConnectionGene(key=(-3, 1754), weight=-0.8299297123477174, enabled=False)\n",
      "\tDefaultConnectionGene(key=(1754, 1831), weight=1.0042091643186244, enabled=True)\n",
      "\tDefaultConnectionGene(key=(1754, 2282), weight=-2.157329173061224, enabled=True)\n",
      "\tDefaultConnectionGene(key=(2005, 1754), weight=-2.1158958846460183, enabled=True)\n",
      "\tDefaultConnectionGene(key=(2005, 1831), weight=-0.7351757183253967, enabled=True)\n",
      "\tDefaultConnectionGene(key=(2282, 0), weight=2.08379463076912, enabled=True)\n",
      "\tDefaultConnectionGene(key=(2664, 2005), weight=-0.9605360962045029, enabled=True)\n",
      "CPU times: user 1min 53s, sys: 0 ns, total: 1min 53s\n",
      "Wall time: 1min 53s\n"
     ]
    }
   ],
   "source": [
    "%%time\n",
    "config_path = os.path.join(current_dir, 'style-mix-1.cfg')\n",
    "best_brain = run(config_path)"
   ]
  },
  {
   "cell_type": "code",
   "execution_count": 29,
   "id": "fbbc0ed0-6fe2-421e-8f31-5405e2c85895",
   "metadata": {},
   "outputs": [
    {
     "data": {
      "text/plain": [
       "<neat.nn.feed_forward.FeedForwardNetwork at 0x79d2e6a03cd0>"
      ]
     },
     "execution_count": 29,
     "metadata": {},
     "output_type": "execute_result"
    }
   ],
   "source": [
    "best_brain"
   ]
  },
  {
   "cell_type": "code",
   "execution_count": 30,
   "id": "f2c4e2da-893b-4265-9298-d8094f7f17bc",
   "metadata": {},
   "outputs": [],
   "source": [
    "# Show output of the most fit genome against training data.\n",
    "outputs = []\n",
    "for i, row in X_test.iterrows():\n",
    "    inputs = [row['diff_ema'], row['diff_ema_s1'], row['diff_ema_s2'], row['diff_ema_s3'], row['diff_ema_s4'], row[\"diff_ema_s5\"], row[\"diff_ema_s6\"], row[\"diff_ema_s7\"], row[\"diff_ema_s8\"]]\n",
    "    expected_output = row['trap']\n",
    "    output = best_brain.activate(inputs)\n",
    "    outputs.append(round(output[0]))\n",
    "    # print(\"input {!r}, expected output {!r}, got {!r}\".format(inputs, expected_output, output))"
   ]
  },
  {
   "cell_type": "code",
   "execution_count": 31,
   "id": "aec94111-45a2-4252-956f-15b71626630c",
   "metadata": {},
   "outputs": [
    {
     "name": "stdout",
     "output_type": "stream",
     "text": [
      "Accuracy: 0.7391304347826086\n"
     ]
    }
   ],
   "source": [
    "expected_outputs = X_test['trap'].to_list()\n",
    "# Evaluate Performance\n",
    "print(\"Accuracy:\", accuracy_score(expected_outputs, outputs))"
   ]
  },
  {
   "cell_type": "code",
   "execution_count": null,
   "id": "29f58184-cb96-42e7-897c-9c5123d5087b",
   "metadata": {},
   "outputs": [],
   "source": []
  }
 ],
 "metadata": {
  "kernelspec": {
   "display_name": "Python 3 (ipykernel)",
   "language": "python",
   "name": "python3"
  },
  "language_info": {
   "codemirror_mode": {
    "name": "ipython",
    "version": 3
   },
   "file_extension": ".py",
   "mimetype": "text/x-python",
   "name": "python",
   "nbconvert_exporter": "python",
   "pygments_lexer": "ipython3",
   "version": "3.11.4"
  }
 },
 "nbformat": 4,
 "nbformat_minor": 5
}
