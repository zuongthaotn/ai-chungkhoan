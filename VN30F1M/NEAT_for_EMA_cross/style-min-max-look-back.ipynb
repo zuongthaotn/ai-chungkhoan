{
 "cells": [
  {
   "cell_type": "markdown",
   "id": "3bb3aa97-7914-4430-8beb-3faa67ba7dad",
   "metadata": {},
   "source": [
    "# Detecting EMA cross traps by using NEAT"
   ]
  },
  {
   "cell_type": "markdown",
   "id": "b4a3e1b0-889f-40f5-bfe1-ca5391c2a7ba",
   "metadata": {},
   "source": [
    "### Import Library"
   ]
  },
  {
   "cell_type": "code",
   "execution_count": 1,
   "id": "8ed51685-7682-46ce-9ab2-df7a6f6937c5",
   "metadata": {},
   "outputs": [],
   "source": [
    "import numpy as np\n",
    "import pandas as pd\n",
    "import numpy as np\n",
    "import pandas_ta as ta\n",
    "import seaborn as sns\n",
    "import os\n",
    "\n",
    "import matplotlib.pyplot as plt\n",
    "plt.rcParams['figure.figsize'] = [12, 6]\n",
    "plt.rcParams['figure.dpi'] = 120\n",
    "import warnings\n",
    "warnings.filterwarnings('ignore')"
   ]
  },
  {
   "cell_type": "code",
   "execution_count": 2,
   "id": "ce4c39f7-1d51-4cb9-b4e0-7b33a2c253c7",
   "metadata": {},
   "outputs": [],
   "source": [
    "from sklearn.model_selection import train_test_split\n",
    "from sklearn.metrics import accuracy_score, classification_report\n",
    "import neat"
   ]
  },
  {
   "cell_type": "markdown",
   "id": "fe85b31e-7106-4979-aba2-03093ade02ca",
   "metadata": {},
   "source": [
    "### Load Price Data"
   ]
  },
  {
   "cell_type": "code",
   "execution_count": 3,
   "id": "0f3bf6f4-aeb4-404e-932a-9afef6ea370a",
   "metadata": {},
   "outputs": [],
   "source": [
    "import os\n",
    "from pathlib import Path\n",
    "notebook_path = os.getcwd()\n",
    "current_dir = Path(notebook_path)\n",
    "csv_file = str(current_dir.parent) + '/VN30F1M_5minutes.csv'\n",
    "is_file = os.path.isfile(csv_file)\n",
    "if is_file:\n",
    "    dataset = pd.read_csv(csv_file, index_col='Date', parse_dates=True)\n",
    "else:\n",
    "    print(csv_file)\n",
    "    print('remote')\n",
    "    dataset = pd.read_csv(\"https://raw.githubusercontent.com/zuongthaotn/vn-stock-data/main/VN30ps/VN30F1M_5minutes.csv\", index_col='Date', parse_dates=True)"
   ]
  },
  {
   "cell_type": "code",
   "execution_count": 4,
   "id": "eff99ef6-2921-4245-b40d-eb6ecee0bc12",
   "metadata": {},
   "outputs": [],
   "source": [
    "data = dataset.copy()"
   ]
  },
  {
   "cell_type": "code",
   "execution_count": 5,
   "id": "7e8d5fbf-d32e-40e3-81e9-9698c0052b43",
   "metadata": {},
   "outputs": [],
   "source": [
    "data = data[data.index > '2020-11-01 00:00:00']"
   ]
  },
  {
   "cell_type": "code",
   "execution_count": 6,
   "id": "a7b549f4-98d8-4565-b092-3a49ba96d93a",
   "metadata": {},
   "outputs": [],
   "source": [
    "data[\"ema_fast\"] = ta.ema(data[\"Close\"], length=20)\n",
    "data[\"ema_low\"] = ta.ema(data[\"Close\"], length=250)\n",
    "data[\"ema_cross\"] = ((data[\"ema_fast\"] > data[\"ema_low\"]) & (data[\"ema_fast\"].shift(1) <= data[\"ema_low\"].shift(1)) | (data[\"ema_fast\"] < data[\"ema_low\"]) & (data[\"ema_fast\"].shift(1) >= data[\"ema_low\"].shift(1)))"
   ]
  },
  {
   "cell_type": "markdown",
   "id": "36ae9558-651e-4c0b-863d-3c6aac1f11a7",
   "metadata": {},
   "source": [
    "## Calculate some common features"
   ]
  },
  {
   "cell_type": "code",
   "execution_count": 7,
   "id": "162de05d-37ab-4939-8f99-eeab9050eeed",
   "metadata": {},
   "outputs": [],
   "source": [
    "data[\"ATR\"] = ta.atr(data[\"High\"], data[\"Low\"], data[\"Close\"], length=14)  # Volatility\n",
    "data[\"RSI\"] = ta.rsi(data[\"Close\"], length=14)  # Momentum indicator"
   ]
  },
  {
   "cell_type": "markdown",
   "id": "d2a773be-626e-4319-bb79-9d7de1fc47fc",
   "metadata": {},
   "source": [
    "## TRAP labeling"
   ]
  },
  {
   "cell_type": "code",
   "execution_count": 8,
   "id": "5db75eb0-0a1e-4262-b6ce-47a8e913a8eb",
   "metadata": {},
   "outputs": [],
   "source": [
    "def is_trap(r):\n",
    "    trap = ''\n",
    "    if r['ema_cross'] == True:\n",
    "        if r['ema_fast'] > r['ema_low']:\n",
    "            # Cross up\n",
    "            if r['min_low_1dlater'] < r['Close'] - 3.5:\n",
    "                trap = 1\n",
    "            else:\n",
    "                trap = 0\n",
    "        else:\n",
    "            # Cross down\n",
    "            if r['max_high_1dlater'] > r['Close'] + 3.5:\n",
    "                trap = 1\n",
    "            else:\n",
    "                trap = 0\n",
    "    return trap"
   ]
  },
  {
   "cell_type": "code",
   "execution_count": 9,
   "id": "6f858728-b6dd-432d-a54f-4c2f0e41b393",
   "metadata": {},
   "outputs": [],
   "source": [
    "data['max_high_1dlater'] = data['High'].shift(-51).rolling(51).max()\n",
    "data['min_low_1dlater'] = data['Low'].shift(-51).rolling(51).min()\n",
    "data['trap'] = data.apply(lambda r: is_trap(r), axis=1)"
   ]
  },
  {
   "cell_type": "code",
   "execution_count": 10,
   "id": "3cd4718a-39db-49a4-ad75-55ad058acf30",
   "metadata": {},
   "outputs": [],
   "source": [
    "# cross_data = data[data.ema_cross == True]\n",
    "# len(cross_data[cross_data.trap == 0]) / len(cross_data['trap'])"
   ]
  },
  {
   "cell_type": "markdown",
   "id": "517926f6-a064-4761-a2f9-15eb913ea31c",
   "metadata": {},
   "source": [
    "## Features"
   ]
  },
  {
   "cell_type": "code",
   "execution_count": 11,
   "id": "795dc77f-ac82-4d8a-9e69-acccdf3440d8",
   "metadata": {},
   "outputs": [],
   "source": [
    "data['max_5'] = data['High'].shift(1).rolling(5).max()\n",
    "data['max_10'] = data['High'].shift(1).rolling(10).max()\n",
    "data['max_20'] = data['High'].shift(1).rolling(20).max()\n",
    "data['max_50'] = data['High'].shift(1).rolling(50).max()\n",
    "data['min_5'] = data['Low'].shift(1).rolling(5).min()\n",
    "data['min_10'] = data['Low'].shift(1).rolling(10).min()\n",
    "data['min_20'] = data['Low'].shift(1).rolling(20).min()\n",
    "data['min_50'] = data['Low'].shift(1).rolling(50).min()\n",
    "cross_up_data = data[(data.ema_cross == True) & (data.ema_fast > data.ema_low)]\n",
    "cross_up_data.dropna(inplace=True)"
   ]
  },
  {
   "cell_type": "code",
   "execution_count": 12,
   "id": "ff4f1391-31a9-4453-95b8-a3d4f3dab1fb",
   "metadata": {},
   "outputs": [
    {
     "data": {
      "text/plain": [
       "181"
      ]
     },
     "execution_count": 12,
     "metadata": {},
     "output_type": "execute_result"
    }
   ],
   "source": [
    "len(cross_up_data)"
   ]
  },
  {
   "cell_type": "code",
   "execution_count": 13,
   "id": "5ae0161d-c970-4a99-9f98-c3e3e6250003",
   "metadata": {},
   "outputs": [],
   "source": [
    "X = cross_up_data[['max_5', 'max_10', 'max_20', 'max_50', 'min_5', 'min_10', 'min_20', 'min_50', 'Close', \"trap\"]]\n",
    "\n",
    "# Train-Test Split\n",
    "X_train, X_test = train_test_split(X, test_size=0.25, random_state=42)"
   ]
  },
  {
   "cell_type": "code",
   "execution_count": 14,
   "id": "ea33cb8e-27f6-4ec3-8c1c-ea22bfe1a964",
   "metadata": {},
   "outputs": [
    {
     "data": {
      "text/plain": [
       "135"
      ]
     },
     "execution_count": 14,
     "metadata": {},
     "output_type": "execute_result"
    }
   ],
   "source": [
    "len(X_train)"
   ]
  },
  {
   "cell_type": "code",
   "execution_count": 15,
   "id": "98189ed7-6d07-480b-9df5-d835d6dc869c",
   "metadata": {},
   "outputs": [
    {
     "data": {
      "text/plain": [
       "46"
      ]
     },
     "execution_count": 15,
     "metadata": {},
     "output_type": "execute_result"
    }
   ],
   "source": [
    "len(X_test)"
   ]
  },
  {
   "cell_type": "code",
   "execution_count": 16,
   "id": "b2dc062f-8f5f-46a9-9a44-c560cf47708c",
   "metadata": {},
   "outputs": [],
   "source": [
    "def eval_genomes(genomes, config):\n",
    "    for genome_id, genome in genomes:\n",
    "        genome.fitness = 4.0\n",
    "        net = neat.nn.FeedForwardNetwork.create(genome, config)\n",
    "        for move_index, row in X_train.iterrows():\n",
    "            inputs = [row['max_5'], row['max_10'], row['max_20'], row['max_50'], row['min_5'], row[\"min_10\"], row[\"min_20\"], row[\"min_50\"], row[\"Close\"]]\n",
    "            expected_output = row['trap']\n",
    "            output = net.activate(inputs)\n",
    "            genome.fitness -= (output[0] - expected_output) ** 2\n",
    "\n",
    "\n",
    "def run(config_file):\n",
    "    # Load configuration.\n",
    "    config = neat.Config(neat.DefaultGenome, neat.DefaultReproduction,\n",
    "                         neat.DefaultSpeciesSet, neat.DefaultStagnation,\n",
    "                         config_file)\n",
    "\n",
    "    # Create the population, which is the top-level object for a NEAT run.\n",
    "    p = neat.Population(config)\n",
    "\n",
    "    # Add a stdout reporter to show progress in the terminal.\n",
    "    # p.add_reporter(neat.StdOutReporter(True))\n",
    "    # stats = neat.StatisticsReporter()\n",
    "    # p.add_reporter(stats)\n",
    "\n",
    "    # Run for up to 100 generations.\n",
    "    winner = p.run(eval_genomes, 100)\n",
    "\n",
    "    # Display the winning genome.\n",
    "    print('\\nBest genome:\\n{!s}'.format(winner))\n",
    "    return neat.nn.FeedForwardNetwork.create(winner, config)"
   ]
  },
  {
   "cell_type": "code",
   "execution_count": 17,
   "id": "1051a537-af40-482d-95a0-9a935cd5c77f",
   "metadata": {},
   "outputs": [
    {
     "name": "stdout",
     "output_type": "stream",
     "text": [
      "\n",
      "Best genome:\n",
      "Key: 11818\n",
      "Fitness: -26.636905284468224\n",
      "Nodes:\n",
      "\t0 DefaultNodeGene(key=0, bias=0.1251539056674364, response=1.0, activation=sigmoid, aggregation=sum)\n",
      "\t1170 DefaultNodeGene(key=1170, bias=3.579639197725395, response=1.0, activation=sigmoid, aggregation=sum)\n",
      "\t1825 DefaultNodeGene(key=1825, bias=-1.3072526637417603, response=1.0, activation=sigmoid, aggregation=sum)\n",
      "\t1849 DefaultNodeGene(key=1849, bias=-2.105861080798479, response=1.0, activation=sigmoid, aggregation=sum)\n",
      "Connections:\n",
      "\tDefaultConnectionGene(key=(-6, 0), weight=-1.6271834508356111, enabled=False)\n",
      "\tDefaultConnectionGene(key=(-6, 1170), weight=-0.0027919498146826704, enabled=True)\n",
      "\tDefaultConnectionGene(key=(-2, 1849), weight=0.48518399138702295, enabled=True)\n",
      "\tDefaultConnectionGene(key=(1170, 0), weight=1.3287850027837258, enabled=False)\n",
      "\tDefaultConnectionGene(key=(1170, 1825), weight=-0.6497542247250939, enabled=True)\n",
      "\tDefaultConnectionGene(key=(1825, 0), weight=0.03571812400749974, enabled=True)\n",
      "\tDefaultConnectionGene(key=(1849, 1170), weight=-1.263021920219693, enabled=True)\n",
      "CPU times: user 1min 50s, sys: 546 ms, total: 1min 50s\n",
      "Wall time: 1min 50s\n"
     ]
    }
   ],
   "source": [
    "%%time\n",
    "config_path = os.path.join(current_dir, 'style-mix-1.cfg')\n",
    "best_brain = run(config_path)"
   ]
  },
  {
   "cell_type": "code",
   "execution_count": 18,
   "id": "fbbc0ed0-6fe2-421e-8f31-5405e2c85895",
   "metadata": {},
   "outputs": [
    {
     "data": {
      "text/plain": [
       "<neat.nn.feed_forward.FeedForwardNetwork at 0x75337f832ed0>"
      ]
     },
     "execution_count": 18,
     "metadata": {},
     "output_type": "execute_result"
    }
   ],
   "source": [
    "best_brain"
   ]
  },
  {
   "cell_type": "code",
   "execution_count": 19,
   "id": "f2c4e2da-893b-4265-9298-d8094f7f17bc",
   "metadata": {},
   "outputs": [],
   "source": [
    "# Show output of the most fit genome against training data.\n",
    "outputs = []\n",
    "for i, row in X_test.iterrows():\n",
    "    inputs = [row['max_5'], row['max_10'], row['max_20'], row['max_50'], row['min_5'], row[\"min_10\"], row[\"min_20\"], row[\"min_50\"], row[\"Close\"]]\n",
    "    expected_output = row['trap']\n",
    "    output = best_brain.activate(inputs)\n",
    "    outputs.append(round(output[0]))\n",
    "    # print(\"input {!r}, expected output {!r}, got {!r}\".format(inputs, expected_output, output))"
   ]
  },
  {
   "cell_type": "code",
   "execution_count": 20,
   "id": "aec94111-45a2-4252-956f-15b71626630c",
   "metadata": {},
   "outputs": [
    {
     "name": "stdout",
     "output_type": "stream",
     "text": [
      "Accuracy: 0.7391304347826086\n"
     ]
    }
   ],
   "source": [
    "expected_outputs = X_test['trap'].to_list()\n",
    "# Evaluate Performance\n",
    "print(\"Accuracy:\", accuracy_score(expected_outputs, outputs))"
   ]
  },
  {
   "cell_type": "code",
   "execution_count": null,
   "id": "29f58184-cb96-42e7-897c-9c5123d5087b",
   "metadata": {},
   "outputs": [],
   "source": []
  }
 ],
 "metadata": {
  "kernelspec": {
   "display_name": "Python 3 (ipykernel)",
   "language": "python",
   "name": "python3"
  },
  "language_info": {
   "codemirror_mode": {
    "name": "ipython",
    "version": 3
   },
   "file_extension": ".py",
   "mimetype": "text/x-python",
   "name": "python",
   "nbconvert_exporter": "python",
   "pygments_lexer": "ipython3",
   "version": "3.11.4"
  }
 },
 "nbformat": 4,
 "nbformat_minor": 5
}
