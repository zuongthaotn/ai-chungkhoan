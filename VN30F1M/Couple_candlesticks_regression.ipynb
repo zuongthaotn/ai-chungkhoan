{
 "cells": [
  {
   "cell_type": "markdown",
   "id": "3bb3aa97-7914-4430-8beb-3faa67ba7dad",
   "metadata": {},
   "source": [
    "# Couple candlesticks trap - Detection(Predict, Classification)"
   ]
  },
  {
   "cell_type": "markdown",
   "id": "b4a3e1b0-889f-40f5-bfe1-ca5391c2a7ba",
   "metadata": {},
   "source": [
    "### Import Library"
   ]
  },
  {
   "cell_type": "code",
   "execution_count": 27,
   "id": "8ed51685-7682-46ce-9ab2-df7a6f6937c5",
   "metadata": {},
   "outputs": [],
   "source": [
    "import numpy as np\n",
    "import pandas as pd\n",
    "import numpy as np\n",
    "import pandas_ta as ta\n",
    "import seaborn as sns\n",
    "\n",
    "import matplotlib.pyplot as plt\n",
    "plt.rcParams['figure.figsize'] = [12, 6]\n",
    "plt.rcParams['figure.dpi'] = 120\n",
    "import warnings\n",
    "warnings.filterwarnings('ignore')"
   ]
  },
  {
   "cell_type": "code",
   "execution_count": 28,
   "id": "299952b3-7d49-4a5b-b9f7-73db27aef912",
   "metadata": {},
   "outputs": [],
   "source": [
    "from sklearn.model_selection import train_test_split\n",
    "from sklearn.ensemble import RandomForestClassifier\n",
    "from sklearn.metrics import accuracy_score, classification_report"
   ]
  },
  {
   "cell_type": "markdown",
   "id": "fe85b31e-7106-4979-aba2-03093ade02ca",
   "metadata": {},
   "source": [
    "### Load Price Data"
   ]
  },
  {
   "cell_type": "code",
   "execution_count": 29,
   "id": "0f3bf6f4-aeb4-404e-932a-9afef6ea370a",
   "metadata": {},
   "outputs": [],
   "source": [
    "import os\n",
    "from pathlib import Path\n",
    "notebook_path = os.getcwd()\n",
    "current_dir = Path(notebook_path)\n",
    "csv_file = str(current_dir) + '/VN30F1M_5minutes.csv'\n",
    "is_file = os.path.isfile(csv_file)\n",
    "if is_file:\n",
    "    dataset = pd.read_csv(csv_file, index_col='Date', parse_dates=True)\n",
    "else:\n",
    "    print('remote')\n",
    "    dataset = pd.read_csv(\"https://raw.githubusercontent.com/zuongthaotn/vn-stock-data/main/VN30ps/VN30F1M_5minutes.csv\", index_col='Date', parse_dates=True)"
   ]
  },
  {
   "cell_type": "code",
   "execution_count": 30,
   "id": "eff99ef6-2921-4245-b40d-eb6ecee0bc12",
   "metadata": {},
   "outputs": [],
   "source": [
    "data = dataset.copy()"
   ]
  },
  {
   "cell_type": "code",
   "execution_count": 31,
   "id": "1fd3b0e4-aa77-43b7-b9c3-39a0fbf1e690",
   "metadata": {},
   "outputs": [
    {
     "data": {
      "text/plain": [
       "82630"
      ]
     },
     "execution_count": 31,
     "metadata": {},
     "output_type": "execute_result"
    }
   ],
   "source": [
    "len(data)"
   ]
  },
  {
   "cell_type": "code",
   "execution_count": 32,
   "id": "8ebd9013-f348-42e9-bfd7-57d1509adb74",
   "metadata": {},
   "outputs": [],
   "source": [
    "data = data[data.index > '2020-11-01 00:00:00']"
   ]
  },
  {
   "cell_type": "code",
   "execution_count": 33,
   "id": "d50fce88-6dda-4489-a122-0cd24657bbc3",
   "metadata": {},
   "outputs": [],
   "source": [
    "def set_condition_1(r):\n",
    "    cond = ''\n",
    "    if r['Open'] > r['Close'] >= r['Low'] + 0.1:\n",
    "        # Do va co bong nen duoi\n",
    "        cond = 'short'\n",
    "    elif r['Open'] < r['Close'] <= r['High'] - 0.1:\n",
    "        # Xanh va co bong nen tren\n",
    "        cond = 'long'\n",
    "    return cond\n",
    "\n",
    "\n",
    "def set_condition_2(r):\n",
    "    cond = ''\n",
    "    if r['Open'] > r['Close'] == r['Low'] and r['Low'] < r['low_s1']:\n",
    "        # Do va khong co bong nen duoi\n",
    "        cond = 'short'\n",
    "    elif r['Open'] < r['Close'] == r['High'] and r['High'] > r['high_s1']:\n",
    "        # Xanh va khong co bong nen tren\n",
    "        cond = 'long'\n",
    "    return cond\n",
    "    \n",
    "\n",
    "def get_couple_candleticks_signal(r):\n",
    "    signal = ''\n",
    "    if r['condition_1'] == 'short' and r['condition_2'] == 'short':\n",
    "        signal = 'short'\n",
    "    elif r['condition_1'] == 'long' and r['condition_2'] == 'long':\n",
    "        signal = 'long'\n",
    "    return signal"
   ]
  },
  {
   "cell_type": "code",
   "execution_count": 34,
   "id": "42e5c984-6a21-40e0-82f5-cc536a3dc23d",
   "metadata": {},
   "outputs": [],
   "source": [
    "# Couple candlesticks signal\n",
    "data['low_s1'] = data['Low'].shift(1)\n",
    "data['high_s1'] = data['High'].shift(1)\n",
    "data['max_5'] = data['High'].rolling(5).max()\n",
    "data['min_5'] = data['Low'].rolling(5).min()\n",
    "data['condition_1'] = data.apply(lambda r: set_condition_1(r), axis=1)\n",
    "data['condition_1'] = data['condition_1'].shift(1)\n",
    "data['condition_2'] = data.apply(lambda r: set_condition_2(r), axis=1)\n",
    "data['signal'] = data.apply(lambda r: get_couple_candleticks_signal(r), axis=1)"
   ]
  },
  {
   "cell_type": "markdown",
   "id": "9d7e8966-b76f-4936-a6c8-302492e6322c",
   "metadata": {},
   "source": [
    "## Trap labeling"
   ]
  },
  {
   "cell_type": "code",
   "execution_count": 35,
   "id": "bd29cdc1-d4f5-4458-9f28-e17e2fbbd80f",
   "metadata": {},
   "outputs": [],
   "source": [
    "traps = []\n",
    "for i, row in data.iterrows():\n",
    "    if row['signal']:\n",
    "        current_date = row.name.strftime('%Y-%m-%d ').format()\n",
    "        current_time = row.name\n",
    "        data_to_end_day = data[(data.index > current_time) & (data.index < current_date + ' 14:30:00')]\n",
    "        if not len(data_to_end_day):\n",
    "            traps.append(1)\n",
    "            continue\n",
    "        #\n",
    "        if row['signal'] == 'short':\n",
    "            if len(data_to_end_day[data_to_end_day.High > row['Close'] + 3.5]) > 0:\n",
    "                traps.append(1)\n",
    "            else:\n",
    "                traps.append(0)\n",
    "        else:\n",
    "            if len(data_to_end_day[data_to_end_day.Low < row['Close'] - 3.5]) > 0:\n",
    "                traps.append(1)\n",
    "            else:\n",
    "                traps.append(0)\n",
    "    else:\n",
    "        traps.append(0)"
   ]
  },
  {
   "cell_type": "code",
   "execution_count": 36,
   "id": "357c5895-c55b-4858-9d7e-3b90bc2472c7",
   "metadata": {},
   "outputs": [],
   "source": [
    "data['trap'] = traps"
   ]
  },
  {
   "cell_type": "code",
   "execution_count": 37,
   "id": "2db73dbe-5c72-4d03-88e5-8ab2a13c0fa4",
   "metadata": {},
   "outputs": [
    {
     "data": {
      "text/plain": [
       "'2341 - 1378 - 963'"
      ]
     },
     "execution_count": 37,
     "metadata": {},
     "output_type": "execute_result"
    }
   ],
   "source": [
    "f\"{len(data[(data.signal != '')])} - {len(data[(data.signal != '') & (data.trap == 1)])} - {len(data[(data.signal != '') & (data.trap == 0)])}\""
   ]
  },
  {
   "cell_type": "markdown",
   "id": "0ba81afb-d341-43e6-a805-67332ac97f25",
   "metadata": {},
   "source": [
    "## RSI & Price move"
   ]
  },
  {
   "cell_type": "code",
   "execution_count": 38,
   "id": "9de4288f-3408-4c14-94ca-0188053e40fa",
   "metadata": {},
   "outputs": [
    {
     "ename": "KeyError",
     "evalue": "'Open'",
     "output_type": "error",
     "traceback": [
      "\u001b[0;31m---------------------------------------------------------------------------\u001b[0m",
      "\u001b[0;31mKeyError\u001b[0m                                  Traceback (most recent call last)",
      "File \u001b[0;32m~/PycharmProjects/algo-stock/venv/lib/python3.11/site-packages/pandas/core/indexes/base.py:3791\u001b[0m, in \u001b[0;36mIndex.get_loc\u001b[0;34m(self, key)\u001b[0m\n\u001b[1;32m   3790\u001b[0m \u001b[38;5;28;01mtry\u001b[39;00m:\n\u001b[0;32m-> 3791\u001b[0m     \u001b[38;5;28;01mreturn\u001b[39;00m \u001b[38;5;28;43mself\u001b[39;49m\u001b[38;5;241;43m.\u001b[39;49m\u001b[43m_engine\u001b[49m\u001b[38;5;241;43m.\u001b[39;49m\u001b[43mget_loc\u001b[49m\u001b[43m(\u001b[49m\u001b[43mcasted_key\u001b[49m\u001b[43m)\u001b[49m\n\u001b[1;32m   3792\u001b[0m \u001b[38;5;28;01mexcept\u001b[39;00m \u001b[38;5;167;01mKeyError\u001b[39;00m \u001b[38;5;28;01mas\u001b[39;00m err:\n",
      "File \u001b[0;32mindex.pyx:152\u001b[0m, in \u001b[0;36mpandas._libs.index.IndexEngine.get_loc\u001b[0;34m()\u001b[0m\n",
      "File \u001b[0;32mindex.pyx:181\u001b[0m, in \u001b[0;36mpandas._libs.index.IndexEngine.get_loc\u001b[0;34m()\u001b[0m\n",
      "File \u001b[0;32mpandas/_libs/hashtable_class_helper.pxi:7080\u001b[0m, in \u001b[0;36mpandas._libs.hashtable.PyObjectHashTable.get_item\u001b[0;34m()\u001b[0m\n",
      "File \u001b[0;32mpandas/_libs/hashtable_class_helper.pxi:7088\u001b[0m, in \u001b[0;36mpandas._libs.hashtable.PyObjectHashTable.get_item\u001b[0;34m()\u001b[0m\n",
      "\u001b[0;31mKeyError\u001b[0m: 'Open'",
      "\nThe above exception was the direct cause of the following exception:\n",
      "\u001b[0;31mKeyError\u001b[0m                                  Traceback (most recent call last)",
      "Cell \u001b[0;32mIn[38], line 7\u001b[0m\n\u001b[1;32m      5\u001b[0m df1[\u001b[38;5;124m'\u001b[39m\u001b[38;5;124mClose_s1\u001b[39m\u001b[38;5;124m'\u001b[39m] \u001b[38;5;241m=\u001b[39m df1[\u001b[38;5;124m'\u001b[39m\u001b[38;5;124mClose\u001b[39m\u001b[38;5;124m'\u001b[39m]\u001b[38;5;241m.\u001b[39mshift(\u001b[38;5;241m1\u001b[39m)\n\u001b[1;32m      6\u001b[0m df1[\u001b[38;5;124m'\u001b[39m\u001b[38;5;124mprice_move\u001b[39m\u001b[38;5;124m'\u001b[39m] \u001b[38;5;241m=\u001b[39m df1\u001b[38;5;241m.\u001b[39mapply(\u001b[38;5;28;01mlambda\u001b[39;00m r: (r[\u001b[38;5;124m'\u001b[39m\u001b[38;5;124mClose\u001b[39m\u001b[38;5;124m'\u001b[39m] \u001b[38;5;241m-\u001b[39m r[\u001b[38;5;124m'\u001b[39m\u001b[38;5;124mClose_s1\u001b[39m\u001b[38;5;124m'\u001b[39m]) \u001b[38;5;241m-\u001b[39m \u001b[38;5;241m0.5\u001b[39m \u001b[38;5;241m*\u001b[39m r[\u001b[38;5;124m'\u001b[39m\u001b[38;5;124mATR_14\u001b[39m\u001b[38;5;124m'\u001b[39m], axis\u001b[38;5;241m=\u001b[39m\u001b[38;5;241m1\u001b[39m)\n\u001b[0;32m----> 7\u001b[0m df1[\u001b[38;5;124m'\u001b[39m\u001b[38;5;124mdpo\u001b[39m\u001b[38;5;124m'\u001b[39m] \u001b[38;5;241m=\u001b[39m df1[\u001b[38;5;124m'\u001b[39m\u001b[38;5;124mClose\u001b[39m\u001b[38;5;124m'\u001b[39m] \u001b[38;5;241m-\u001b[39m \u001b[43mdf1\u001b[49m\u001b[43m[\u001b[49m\u001b[38;5;124;43m'\u001b[39;49m\u001b[38;5;124;43mOpen\u001b[39;49m\u001b[38;5;124;43m'\u001b[39;49m\u001b[43m]\u001b[49m\u001b[38;5;241m.\u001b[39mshift(\u001b[38;5;241m1\u001b[39m)\n",
      "File \u001b[0;32m~/PycharmProjects/algo-stock/venv/lib/python3.11/site-packages/pandas/core/frame.py:3893\u001b[0m, in \u001b[0;36mDataFrame.__getitem__\u001b[0;34m(self, key)\u001b[0m\n\u001b[1;32m   3891\u001b[0m \u001b[38;5;28;01mif\u001b[39;00m \u001b[38;5;28mself\u001b[39m\u001b[38;5;241m.\u001b[39mcolumns\u001b[38;5;241m.\u001b[39mnlevels \u001b[38;5;241m>\u001b[39m \u001b[38;5;241m1\u001b[39m:\n\u001b[1;32m   3892\u001b[0m     \u001b[38;5;28;01mreturn\u001b[39;00m \u001b[38;5;28mself\u001b[39m\u001b[38;5;241m.\u001b[39m_getitem_multilevel(key)\n\u001b[0;32m-> 3893\u001b[0m indexer \u001b[38;5;241m=\u001b[39m \u001b[38;5;28;43mself\u001b[39;49m\u001b[38;5;241;43m.\u001b[39;49m\u001b[43mcolumns\u001b[49m\u001b[38;5;241;43m.\u001b[39;49m\u001b[43mget_loc\u001b[49m\u001b[43m(\u001b[49m\u001b[43mkey\u001b[49m\u001b[43m)\u001b[49m\n\u001b[1;32m   3894\u001b[0m \u001b[38;5;28;01mif\u001b[39;00m is_integer(indexer):\n\u001b[1;32m   3895\u001b[0m     indexer \u001b[38;5;241m=\u001b[39m [indexer]\n",
      "File \u001b[0;32m~/PycharmProjects/algo-stock/venv/lib/python3.11/site-packages/pandas/core/indexes/base.py:3798\u001b[0m, in \u001b[0;36mIndex.get_loc\u001b[0;34m(self, key)\u001b[0m\n\u001b[1;32m   3793\u001b[0m     \u001b[38;5;28;01mif\u001b[39;00m \u001b[38;5;28misinstance\u001b[39m(casted_key, \u001b[38;5;28mslice\u001b[39m) \u001b[38;5;129;01mor\u001b[39;00m (\n\u001b[1;32m   3794\u001b[0m         \u001b[38;5;28misinstance\u001b[39m(casted_key, abc\u001b[38;5;241m.\u001b[39mIterable)\n\u001b[1;32m   3795\u001b[0m         \u001b[38;5;129;01mand\u001b[39;00m \u001b[38;5;28many\u001b[39m(\u001b[38;5;28misinstance\u001b[39m(x, \u001b[38;5;28mslice\u001b[39m) \u001b[38;5;28;01mfor\u001b[39;00m x \u001b[38;5;129;01min\u001b[39;00m casted_key)\n\u001b[1;32m   3796\u001b[0m     ):\n\u001b[1;32m   3797\u001b[0m         \u001b[38;5;28;01mraise\u001b[39;00m InvalidIndexError(key)\n\u001b[0;32m-> 3798\u001b[0m     \u001b[38;5;28;01mraise\u001b[39;00m \u001b[38;5;167;01mKeyError\u001b[39;00m(key) \u001b[38;5;28;01mfrom\u001b[39;00m \u001b[38;5;21;01merr\u001b[39;00m\n\u001b[1;32m   3799\u001b[0m \u001b[38;5;28;01mexcept\u001b[39;00m \u001b[38;5;167;01mTypeError\u001b[39;00m:\n\u001b[1;32m   3800\u001b[0m     \u001b[38;5;66;03m# If we have a listlike key, _check_indexing_error will raise\u001b[39;00m\n\u001b[1;32m   3801\u001b[0m     \u001b[38;5;66;03m#  InvalidIndexError. Otherwise we fall through and re-raise\u001b[39;00m\n\u001b[1;32m   3802\u001b[0m     \u001b[38;5;66;03m#  the TypeError.\u001b[39;00m\n\u001b[1;32m   3803\u001b[0m     \u001b[38;5;28mself\u001b[39m\u001b[38;5;241m.\u001b[39m_check_indexing_error(key)\n",
      "\u001b[0;31mKeyError\u001b[0m: 'Open'"
     ]
    }
   ],
   "source": [
    "df1 = data[['Open', 'Close', 'High', 'Low', 'signal', 'trap']][data.signal != ''].copy()\n",
    "df1['RSI'] = ta.rsi(df1[\"Close\"], length=14)\n",
    "df1['RSI'] = round(df1['RSI'])\n",
    "df1[\"ATR_14\"] = ta.atr(df1['High'], df1['Low'], df1['Close'], length=14)\n",
    "df1['Close_s1'] = df1['Close'].shift(1)\n",
    "df1['price_move'] = df1.apply(lambda r: (r['Close'] - r['Close_s1']) - 0.5 * r['ATR_14'], axis=1)\n",
    "df1['dpo'] = df1['Close'] - df1['Open'].shift(1)"
   ]
  },
  {
   "cell_type": "code",
   "execution_count": null,
   "id": "61e68afa-9516-438c-8009-9e5e69233dab",
   "metadata": {},
   "outputs": [],
   "source": [
    "# Define Features and Target Variable\n",
    "features = [\"price_move\", \"RSI\", \"dpo\"]\n",
    "X = df1[features]\n",
    "y = df1[\"trap\"]\n",
    "\n",
    "# Train-Test Split\n",
    "X_train, X_test, y_train, y_test = train_test_split(X, y, test_size=0.2, random_state=42)"
   ]
  },
  {
   "cell_type": "code",
   "execution_count": null,
   "id": "b24cf588-0685-4873-a179-66a34d51278d",
   "metadata": {},
   "outputs": [],
   "source": [
    "# Train Random Forest Model\n",
    "model = RandomForestClassifier(n_estimators=100, random_state=42)\n",
    "model.fit(X_train, y_train)"
   ]
  },
  {
   "cell_type": "code",
   "execution_count": null,
   "id": "1ab086da-3c54-4df9-a82f-140bed709ca3",
   "metadata": {},
   "outputs": [],
   "source": [
    "# Predictions\n",
    "y_pred = model.predict(X_test)"
   ]
  },
  {
   "cell_type": "code",
   "execution_count": null,
   "id": "4bdcfb64-0245-4923-b9d1-1cdb5efcd881",
   "metadata": {},
   "outputs": [],
   "source": [
    "# Evaluate Performance\n",
    "print(\"Accuracy:\", accuracy_score(y_test, y_pred))\n",
    "print(classification_report(y_test, y_pred))"
   ]
  },
  {
   "cell_type": "code",
   "execution_count": null,
   "id": "8619a480-59e9-438e-a710-64551d9b3394",
   "metadata": {},
   "outputs": [],
   "source": []
  }
 ],
 "metadata": {
  "kernelspec": {
   "display_name": "Python 3 (ipykernel)",
   "language": "python",
   "name": "python3"
  },
  "language_info": {
   "codemirror_mode": {
    "name": "ipython",
    "version": 3
   },
   "file_extension": ".py",
   "mimetype": "text/x-python",
   "name": "python",
   "nbconvert_exporter": "python",
   "pygments_lexer": "ipython3",
   "version": "3.11.4"
  }
 },
 "nbformat": 4,
 "nbformat_minor": 5
}
