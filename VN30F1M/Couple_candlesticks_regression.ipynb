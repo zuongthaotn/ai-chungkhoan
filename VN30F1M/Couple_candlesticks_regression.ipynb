{
 "cells": [
  {
   "cell_type": "markdown",
   "id": "3bb3aa97-7914-4430-8beb-3faa67ba7dad",
   "metadata": {},
   "source": [
    "# Couple candlesticks trap - Detection(Predict, Classification)"
   ]
  },
  {
   "cell_type": "markdown",
   "id": "b4a3e1b0-889f-40f5-bfe1-ca5391c2a7ba",
   "metadata": {},
   "source": [
    "### Import Library"
   ]
  },
  {
   "cell_type": "code",
   "execution_count": 1,
   "id": "8ed51685-7682-46ce-9ab2-df7a6f6937c5",
   "metadata": {},
   "outputs": [],
   "source": [
    "import numpy as np\n",
    "import pandas as pd\n",
    "import numpy as np\n",
    "import pandas_ta as ta\n",
    "import seaborn as sns\n",
    "\n",
    "import matplotlib.pyplot as plt\n",
    "plt.rcParams['figure.figsize'] = [12, 6]\n",
    "plt.rcParams['figure.dpi'] = 120\n",
    "import warnings\n",
    "warnings.filterwarnings('ignore')"
   ]
  },
  {
   "cell_type": "code",
   "execution_count": 2,
   "id": "299952b3-7d49-4a5b-b9f7-73db27aef912",
   "metadata": {},
   "outputs": [],
   "source": [
    "from sklearn.model_selection import train_test_split\n",
    "from sklearn.ensemble import RandomForestClassifier\n",
    "from sklearn.metrics import accuracy_score, classification_report"
   ]
  },
  {
   "cell_type": "markdown",
   "id": "fe85b31e-7106-4979-aba2-03093ade02ca",
   "metadata": {},
   "source": [
    "### Load Price Data"
   ]
  },
  {
   "cell_type": "code",
   "execution_count": 3,
   "id": "0f3bf6f4-aeb4-404e-932a-9afef6ea370a",
   "metadata": {},
   "outputs": [],
   "source": [
    "import os\n",
    "from pathlib import Path\n",
    "notebook_path = os.getcwd()\n",
    "current_dir = Path(notebook_path)\n",
    "csv_file = str(current_dir) + '/VN30F1M_5minutes.csv'\n",
    "is_file = os.path.isfile(csv_file)\n",
    "if is_file:\n",
    "    dataset = pd.read_csv(csv_file, index_col='Date', parse_dates=True)\n",
    "else:\n",
    "    print('remote')\n",
    "    dataset = pd.read_csv(\"https://raw.githubusercontent.com/zuongthaotn/vn-stock-data/main/VN30ps/VN30F1M_5minutes.csv\", index_col='Date', parse_dates=True)"
   ]
  },
  {
   "cell_type": "code",
   "execution_count": 4,
   "id": "eff99ef6-2921-4245-b40d-eb6ecee0bc12",
   "metadata": {},
   "outputs": [],
   "source": [
    "data = dataset.copy()"
   ]
  },
  {
   "cell_type": "code",
   "execution_count": 5,
   "id": "1fd3b0e4-aa77-43b7-b9c3-39a0fbf1e690",
   "metadata": {},
   "outputs": [
    {
     "data": {
      "text/plain": [
       "82630"
      ]
     },
     "execution_count": 5,
     "metadata": {},
     "output_type": "execute_result"
    }
   ],
   "source": [
    "len(data)"
   ]
  },
  {
   "cell_type": "code",
   "execution_count": 6,
   "id": "8ebd9013-f348-42e9-bfd7-57d1509adb74",
   "metadata": {},
   "outputs": [],
   "source": [
    "data = data[data.index > '2020-11-01 00:00:00']"
   ]
  },
  {
   "cell_type": "code",
   "execution_count": 7,
   "id": "d50fce88-6dda-4489-a122-0cd24657bbc3",
   "metadata": {},
   "outputs": [],
   "source": [
    "def set_condition_1(r):\n",
    "    cond = ''\n",
    "    if r['Open'] > r['Close'] >= r['Low'] + 0.1:\n",
    "        # Do va co bong nen duoi\n",
    "        cond = 'short'\n",
    "    elif r['Open'] < r['Close'] <= r['High'] - 0.1:\n",
    "        # Xanh va co bong nen tren\n",
    "        cond = 'long'\n",
    "    return cond\n",
    "\n",
    "\n",
    "def set_condition_2(r):\n",
    "    cond = ''\n",
    "    if r['Open'] > r['Close'] == r['Low'] and r['Low'] < r['low_s1']:\n",
    "        # Do va khong co bong nen duoi\n",
    "        cond = 'short'\n",
    "    elif r['Open'] < r['Close'] == r['High'] and r['High'] > r['high_s1']:\n",
    "        # Xanh va khong co bong nen tren\n",
    "        cond = 'long'\n",
    "    return cond\n",
    "    \n",
    "\n",
    "def get_couple_candleticks_signal(r):\n",
    "    signal = ''\n",
    "    if r['condition_1'] == 'short' and r['condition_2'] == 'short':\n",
    "        signal = 'short'\n",
    "    elif r['condition_1'] == 'long' and r['condition_2'] == 'long':\n",
    "        signal = 'long'\n",
    "    return signal"
   ]
  },
  {
   "cell_type": "code",
   "execution_count": 8,
   "id": "42e5c984-6a21-40e0-82f5-cc536a3dc23d",
   "metadata": {},
   "outputs": [],
   "source": [
    "# Couple candlesticks signal\n",
    "data['low_s1'] = data['Low'].shift(1)\n",
    "data['high_s1'] = data['High'].shift(1)\n",
    "data['max_5'] = data['High'].rolling(5).max()\n",
    "data['min_5'] = data['Low'].rolling(5).min()\n",
    "data['condition_1'] = data.apply(lambda r: set_condition_1(r), axis=1)\n",
    "data['condition_1'] = data['condition_1'].shift(1)\n",
    "data['condition_2'] = data.apply(lambda r: set_condition_2(r), axis=1)\n",
    "data['signal'] = data.apply(lambda r: get_couple_candleticks_signal(r), axis=1)"
   ]
  },
  {
   "cell_type": "code",
   "execution_count": null,
   "id": "8619a480-59e9-438e-a710-64551d9b3394",
   "metadata": {},
   "outputs": [],
   "source": [
    "# Chua code xong - pending"
   ]
  }
 ],
 "metadata": {
  "kernelspec": {
   "display_name": "Python 3 (ipykernel)",
   "language": "python",
   "name": "python3"
  },
  "language_info": {
   "codemirror_mode": {
    "name": "ipython",
    "version": 3
   },
   "file_extension": ".py",
   "mimetype": "text/x-python",
   "name": "python",
   "nbconvert_exporter": "python",
   "pygments_lexer": "ipython3",
   "version": "3.11.4"
  }
 },
 "nbformat": 4,
 "nbformat_minor": 5
}
