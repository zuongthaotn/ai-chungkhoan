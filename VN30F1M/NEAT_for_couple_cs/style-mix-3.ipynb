{
 "cells": [
  {
   "cell_type": "markdown",
   "id": "3bb3aa97-7914-4430-8beb-3faa67ba7dad",
   "metadata": {},
   "source": [
    "# Detecting Couple candlestick traps by using NEAT"
   ]
  },
  {
   "cell_type": "code",
   "execution_count": 24,
   "id": "bf6fc742-788c-46ef-bbc9-0ba605d7c484",
   "metadata": {},
   "outputs": [],
   "source": [
    "## As similar mix-1 but no hidden input"
   ]
  },
  {
   "cell_type": "markdown",
   "id": "b4a3e1b0-889f-40f5-bfe1-ca5391c2a7ba",
   "metadata": {},
   "source": [
    "### Import Library"
   ]
  },
  {
   "cell_type": "code",
   "execution_count": 25,
   "id": "8ed51685-7682-46ce-9ab2-df7a6f6937c5",
   "metadata": {},
   "outputs": [],
   "source": [
    "import numpy as np\n",
    "import pandas as pd\n",
    "import numpy as np\n",
    "import pandas_ta as ta\n",
    "import seaborn as sns\n",
    "import os\n",
    "\n",
    "import matplotlib.pyplot as plt\n",
    "plt.rcParams['figure.figsize'] = [12, 6]\n",
    "plt.rcParams['figure.dpi'] = 120\n",
    "import warnings\n",
    "warnings.filterwarnings('ignore')"
   ]
  },
  {
   "cell_type": "code",
   "execution_count": 26,
   "id": "ce4c39f7-1d51-4cb9-b4e0-7b33a2c253c7",
   "metadata": {},
   "outputs": [],
   "source": [
    "from sklearn.model_selection import train_test_split\n",
    "from sklearn.metrics import accuracy_score, classification_report\n",
    "import neat"
   ]
  },
  {
   "cell_type": "markdown",
   "id": "fe85b31e-7106-4979-aba2-03093ade02ca",
   "metadata": {},
   "source": [
    "### Load Price Data"
   ]
  },
  {
   "cell_type": "code",
   "execution_count": 27,
   "id": "0f3bf6f4-aeb4-404e-932a-9afef6ea370a",
   "metadata": {},
   "outputs": [],
   "source": [
    "import os\n",
    "from pathlib import Path\n",
    "notebook_path = os.getcwd()\n",
    "current_dir = Path(notebook_path)\n",
    "csv_file = str(current_dir.parent) + '/VN30F1M_5minutes.csv'\n",
    "is_file = os.path.isfile(csv_file)\n",
    "if is_file:\n",
    "    dataset = pd.read_csv(csv_file, index_col='Date', parse_dates=True)\n",
    "else:\n",
    "    print(csv_file)\n",
    "    print('remote')\n",
    "    dataset = pd.read_csv(\"https://raw.githubusercontent.com/zuongthaotn/vn-stock-data/main/VN30ps/VN30F1M_5minutes.csv\", index_col='Date', parse_dates=True)"
   ]
  },
  {
   "cell_type": "code",
   "execution_count": 28,
   "id": "eff99ef6-2921-4245-b40d-eb6ecee0bc12",
   "metadata": {},
   "outputs": [],
   "source": [
    "data = dataset.copy()"
   ]
  },
  {
   "cell_type": "code",
   "execution_count": 29,
   "id": "7e8d5fbf-d32e-40e3-81e9-9698c0052b43",
   "metadata": {},
   "outputs": [],
   "source": [
    "data = data[data.index > '2020-11-01 00:00:00']"
   ]
  },
  {
   "cell_type": "code",
   "execution_count": 30,
   "id": "7f6eaf56-b730-4a7e-b5f7-b12d5a215934",
   "metadata": {},
   "outputs": [],
   "source": [
    "# len(data[(data.index > '2025-02-14 00:00:00') & (data.index < '2025-02-14 23:00:00')])"
   ]
  },
  {
   "cell_type": "code",
   "execution_count": 31,
   "id": "a7b549f4-98d8-4565-b092-3a49ba96d93a",
   "metadata": {},
   "outputs": [],
   "source": [
    "def set_condition_1(r):\n",
    "    cond = ''\n",
    "    if r['Open'] < r['Close'] <= r['High'] - 0.1:\n",
    "        # Xanh va co bong nen tren\n",
    "        cond = 'long'\n",
    "    return cond\n",
    "\n",
    "\n",
    "def set_condition_2(r):\n",
    "    cond = ''\n",
    "    if r['Open'] < r['Close'] == r['High'] and r['High'] > r['high_s1']:\n",
    "        # Xanh va khong co bong nen tren\n",
    "        cond = 'long'\n",
    "    return cond\n",
    "    \n",
    "\n",
    "def get_couple_candleticks_signal(r):\n",
    "    signal = ''\n",
    "    if 100 * r.name.hour + r.name.minute >= 1425:\n",
    "        return ''\n",
    "    if r['condition_1'] == 'long' and r['condition_2'] == 'long':\n",
    "        signal = 'long'\n",
    "    return signal"
   ]
  },
  {
   "cell_type": "code",
   "execution_count": 32,
   "id": "70bd54b3-cffe-449d-807c-836dd0eefe4d",
   "metadata": {},
   "outputs": [],
   "source": [
    "# Couple candlesticks signal\n",
    "data['low_s1'] = data['Low'].shift(1)\n",
    "data['high_s1'] = data['High'].shift(1)\n",
    "data['condition_1'] = data.apply(lambda r: set_condition_1(r), axis=1)\n",
    "data['condition_1'] = data['condition_1'].shift(1)\n",
    "data['condition_2'] = data.apply(lambda r: set_condition_2(r), axis=1)\n",
    "data['signal'] = data.apply(lambda r: get_couple_candleticks_signal(r), axis=1)"
   ]
  },
  {
   "cell_type": "code",
   "execution_count": 33,
   "id": "162de05d-37ab-4939-8f99-eeab9050eeed",
   "metadata": {},
   "outputs": [],
   "source": [
    "LOOK_BACK = 51 # 1 day analytics\n",
    "data['Higher_High'] = (data['High'] > data['High'].shift(1)).astype(int)\n",
    "data['Lower_Low'] = (data['Low'] < data['Low'].shift(1)).astype(int)\n",
    "data['Higher_High_Count'] = data['Higher_High'].rolling(LOOK_BACK).sum()\n",
    "data['Lower_Low_Count'] = data['Lower_Low'].rolling(LOOK_BACK).sum()\n",
    "data['Green_cs'] = (data['Close'] > data['Open']).astype(int)\n",
    "data['Red_cs'] = (data['Close'] < data['Open']).astype(int)\n",
    "data['Green_CS_Count'] = data['Green_cs'].rolling(LOOK_BACK).sum()\n",
    "data['Red_CS_Count'] = data['Red_cs'].rolling(LOOK_BACK).sum()\n",
    "data['Diff_Open_Close'] = data['Close'] - data['Open']\n",
    "data['Diff_Open_Close_Sum'] = data['Diff_Open_Close'].rolling(LOOK_BACK).sum()"
   ]
  },
  {
   "cell_type": "code",
   "execution_count": 34,
   "id": "126427f9-4b05-46db-9466-045090a7b49c",
   "metadata": {},
   "outputs": [
    {
     "data": {
      "text/plain": [
       "1102"
      ]
     },
     "execution_count": 34,
     "metadata": {},
     "output_type": "execute_result"
    }
   ],
   "source": [
    "len(data[data.signal != ''])"
   ]
  },
  {
   "cell_type": "code",
   "execution_count": 35,
   "id": "67c06b04-e592-49c6-9b61-18e81caefa3c",
   "metadata": {},
   "outputs": [
    {
     "data": {
      "text/html": [
       "<div>\n",
       "<style scoped>\n",
       "    .dataframe tbody tr th:only-of-type {\n",
       "        vertical-align: middle;\n",
       "    }\n",
       "\n",
       "    .dataframe tbody tr th {\n",
       "        vertical-align: top;\n",
       "    }\n",
       "\n",
       "    .dataframe thead th {\n",
       "        text-align: right;\n",
       "    }\n",
       "</style>\n",
       "<table border=\"1\" class=\"dataframe\">\n",
       "  <thead>\n",
       "    <tr style=\"text-align: right;\">\n",
       "      <th></th>\n",
       "      <th>Open</th>\n",
       "      <th>High</th>\n",
       "      <th>Low</th>\n",
       "      <th>Close</th>\n",
       "      <th>Volume</th>\n",
       "      <th>low_s1</th>\n",
       "      <th>high_s1</th>\n",
       "      <th>condition_1</th>\n",
       "      <th>condition_2</th>\n",
       "      <th>signal</th>\n",
       "      <th>Higher_High</th>\n",
       "      <th>Lower_Low</th>\n",
       "      <th>Higher_High_Count</th>\n",
       "      <th>Lower_Low_Count</th>\n",
       "      <th>Green_cs</th>\n",
       "      <th>Red_cs</th>\n",
       "      <th>Green_CS_Count</th>\n",
       "      <th>Red_CS_Count</th>\n",
       "      <th>Diff_Open_Close</th>\n",
       "      <th>Diff_Open_Close_Sum</th>\n",
       "    </tr>\n",
       "    <tr>\n",
       "      <th>Date</th>\n",
       "      <th></th>\n",
       "      <th></th>\n",
       "      <th></th>\n",
       "      <th></th>\n",
       "      <th></th>\n",
       "      <th></th>\n",
       "      <th></th>\n",
       "      <th></th>\n",
       "      <th></th>\n",
       "      <th></th>\n",
       "      <th></th>\n",
       "      <th></th>\n",
       "      <th></th>\n",
       "      <th></th>\n",
       "      <th></th>\n",
       "      <th></th>\n",
       "      <th></th>\n",
       "      <th></th>\n",
       "      <th></th>\n",
       "      <th></th>\n",
       "    </tr>\n",
       "  </thead>\n",
       "  <tbody>\n",
       "    <tr>\n",
       "      <th>2020-11-04 10:05:00</th>\n",
       "      <td>908.2</td>\n",
       "      <td>909.0</td>\n",
       "      <td>908.1</td>\n",
       "      <td>909.0</td>\n",
       "      <td>1800</td>\n",
       "      <td>907.9</td>\n",
       "      <td>908.6</td>\n",
       "      <td>long</td>\n",
       "      <td>long</td>\n",
       "      <td>long</td>\n",
       "      <td>1</td>\n",
       "      <td>0</td>\n",
       "      <td>19.0</td>\n",
       "      <td>22.0</td>\n",
       "      <td>1</td>\n",
       "      <td>0</td>\n",
       "      <td>19.0</td>\n",
       "      <td>27.0</td>\n",
       "      <td>0.8</td>\n",
       "      <td>0.9</td>\n",
       "    </tr>\n",
       "    <tr>\n",
       "      <th>2020-11-04 10:15:00</th>\n",
       "      <td>910.2</td>\n",
       "      <td>911.5</td>\n",
       "      <td>909.8</td>\n",
       "      <td>911.5</td>\n",
       "      <td>3514</td>\n",
       "      <td>909.1</td>\n",
       "      <td>910.5</td>\n",
       "      <td>long</td>\n",
       "      <td>long</td>\n",
       "      <td>long</td>\n",
       "      <td>1</td>\n",
       "      <td>0</td>\n",
       "      <td>20.0</td>\n",
       "      <td>21.0</td>\n",
       "      <td>1</td>\n",
       "      <td>0</td>\n",
       "      <td>21.0</td>\n",
       "      <td>27.0</td>\n",
       "      <td>1.3</td>\n",
       "      <td>3.1</td>\n",
       "    </tr>\n",
       "    <tr>\n",
       "      <th>2020-11-04 10:35:00</th>\n",
       "      <td>911.2</td>\n",
       "      <td>912.5</td>\n",
       "      <td>910.8</td>\n",
       "      <td>912.5</td>\n",
       "      <td>2731</td>\n",
       "      <td>910.7</td>\n",
       "      <td>911.5</td>\n",
       "      <td>long</td>\n",
       "      <td>long</td>\n",
       "      <td>long</td>\n",
       "      <td>1</td>\n",
       "      <td>0</td>\n",
       "      <td>21.0</td>\n",
       "      <td>21.0</td>\n",
       "      <td>1</td>\n",
       "      <td>0</td>\n",
       "      <td>21.0</td>\n",
       "      <td>28.0</td>\n",
       "      <td>1.3</td>\n",
       "      <td>2.8</td>\n",
       "    </tr>\n",
       "    <tr>\n",
       "      <th>2020-11-04 11:00:00</th>\n",
       "      <td>913.5</td>\n",
       "      <td>914.2</td>\n",
       "      <td>912.8</td>\n",
       "      <td>914.2</td>\n",
       "      <td>1996</td>\n",
       "      <td>913.0</td>\n",
       "      <td>913.7</td>\n",
       "      <td>long</td>\n",
       "      <td>long</td>\n",
       "      <td>long</td>\n",
       "      <td>1</td>\n",
       "      <td>1</td>\n",
       "      <td>22.0</td>\n",
       "      <td>21.0</td>\n",
       "      <td>1</td>\n",
       "      <td>0</td>\n",
       "      <td>22.0</td>\n",
       "      <td>27.0</td>\n",
       "      <td>0.7</td>\n",
       "      <td>2.9</td>\n",
       "    </tr>\n",
       "    <tr>\n",
       "      <th>2020-11-06 13:40:00</th>\n",
       "      <td>904.5</td>\n",
       "      <td>906.7</td>\n",
       "      <td>904.4</td>\n",
       "      <td>906.7</td>\n",
       "      <td>2806</td>\n",
       "      <td>903.5</td>\n",
       "      <td>905.0</td>\n",
       "      <td>long</td>\n",
       "      <td>long</td>\n",
       "      <td>long</td>\n",
       "      <td>1</td>\n",
       "      <td>0</td>\n",
       "      <td>18.0</td>\n",
       "      <td>23.0</td>\n",
       "      <td>1</td>\n",
       "      <td>0</td>\n",
       "      <td>19.0</td>\n",
       "      <td>29.0</td>\n",
       "      <td>2.2</td>\n",
       "      <td>-11.9</td>\n",
       "    </tr>\n",
       "    <tr>\n",
       "      <th>...</th>\n",
       "      <td>...</td>\n",
       "      <td>...</td>\n",
       "      <td>...</td>\n",
       "      <td>...</td>\n",
       "      <td>...</td>\n",
       "      <td>...</td>\n",
       "      <td>...</td>\n",
       "      <td>...</td>\n",
       "      <td>...</td>\n",
       "      <td>...</td>\n",
       "      <td>...</td>\n",
       "      <td>...</td>\n",
       "      <td>...</td>\n",
       "      <td>...</td>\n",
       "      <td>...</td>\n",
       "      <td>...</td>\n",
       "      <td>...</td>\n",
       "      <td>...</td>\n",
       "      <td>...</td>\n",
       "      <td>...</td>\n",
       "    </tr>\n",
       "    <tr>\n",
       "      <th>2025-02-05 13:50:00</th>\n",
       "      <td>1331.9</td>\n",
       "      <td>1333.4</td>\n",
       "      <td>1331.5</td>\n",
       "      <td>1333.4</td>\n",
       "      <td>5276</td>\n",
       "      <td>1330.6</td>\n",
       "      <td>1331.8</td>\n",
       "      <td>long</td>\n",
       "      <td>long</td>\n",
       "      <td>long</td>\n",
       "      <td>1</td>\n",
       "      <td>0</td>\n",
       "      <td>23.0</td>\n",
       "      <td>21.0</td>\n",
       "      <td>1</td>\n",
       "      <td>0</td>\n",
       "      <td>20.0</td>\n",
       "      <td>27.0</td>\n",
       "      <td>1.5</td>\n",
       "      <td>0.9</td>\n",
       "    </tr>\n",
       "    <tr>\n",
       "      <th>2025-02-06 09:55:00</th>\n",
       "      <td>1342.5</td>\n",
       "      <td>1344.3</td>\n",
       "      <td>1342.3</td>\n",
       "      <td>1344.3</td>\n",
       "      <td>4723</td>\n",
       "      <td>1341.5</td>\n",
       "      <td>1342.7</td>\n",
       "      <td>long</td>\n",
       "      <td>long</td>\n",
       "      <td>long</td>\n",
       "      <td>1</td>\n",
       "      <td>0</td>\n",
       "      <td>23.0</td>\n",
       "      <td>20.0</td>\n",
       "      <td>1</td>\n",
       "      <td>0</td>\n",
       "      <td>24.0</td>\n",
       "      <td>24.0</td>\n",
       "      <td>1.8</td>\n",
       "      <td>9.9</td>\n",
       "    </tr>\n",
       "    <tr>\n",
       "      <th>2025-02-11 13:25:00</th>\n",
       "      <td>1331.2</td>\n",
       "      <td>1332.5</td>\n",
       "      <td>1331.2</td>\n",
       "      <td>1332.5</td>\n",
       "      <td>3534</td>\n",
       "      <td>1329.6</td>\n",
       "      <td>1331.4</td>\n",
       "      <td>long</td>\n",
       "      <td>long</td>\n",
       "      <td>long</td>\n",
       "      <td>1</td>\n",
       "      <td>0</td>\n",
       "      <td>19.0</td>\n",
       "      <td>23.0</td>\n",
       "      <td>1</td>\n",
       "      <td>0</td>\n",
       "      <td>22.0</td>\n",
       "      <td>24.0</td>\n",
       "      <td>1.3</td>\n",
       "      <td>-4.3</td>\n",
       "    </tr>\n",
       "    <tr>\n",
       "      <th>2025-02-13 10:40:00</th>\n",
       "      <td>1328.7</td>\n",
       "      <td>1329.8</td>\n",
       "      <td>1328.6</td>\n",
       "      <td>1329.8</td>\n",
       "      <td>4716</td>\n",
       "      <td>1327.4</td>\n",
       "      <td>1328.8</td>\n",
       "      <td>long</td>\n",
       "      <td>long</td>\n",
       "      <td>long</td>\n",
       "      <td>1</td>\n",
       "      <td>0</td>\n",
       "      <td>19.0</td>\n",
       "      <td>23.0</td>\n",
       "      <td>1</td>\n",
       "      <td>0</td>\n",
       "      <td>19.0</td>\n",
       "      <td>27.0</td>\n",
       "      <td>1.1</td>\n",
       "      <td>-8.6</td>\n",
       "    </tr>\n",
       "    <tr>\n",
       "      <th>2025-02-13 13:15:00</th>\n",
       "      <td>1333.8</td>\n",
       "      <td>1335.9</td>\n",
       "      <td>1333.6</td>\n",
       "      <td>1335.9</td>\n",
       "      <td>6130</td>\n",
       "      <td>1333.1</td>\n",
       "      <td>1333.9</td>\n",
       "      <td>long</td>\n",
       "      <td>long</td>\n",
       "      <td>long</td>\n",
       "      <td>1</td>\n",
       "      <td>0</td>\n",
       "      <td>24.0</td>\n",
       "      <td>16.0</td>\n",
       "      <td>1</td>\n",
       "      <td>0</td>\n",
       "      <td>21.0</td>\n",
       "      <td>25.0</td>\n",
       "      <td>2.1</td>\n",
       "      <td>-2.3</td>\n",
       "    </tr>\n",
       "  </tbody>\n",
       "</table>\n",
       "<p>1102 rows × 20 columns</p>\n",
       "</div>"
      ],
      "text/plain": [
       "                       Open    High     Low   Close  Volume  low_s1  high_s1  \\\n",
       "Date                                                                           \n",
       "2020-11-04 10:05:00   908.2   909.0   908.1   909.0    1800   907.9    908.6   \n",
       "2020-11-04 10:15:00   910.2   911.5   909.8   911.5    3514   909.1    910.5   \n",
       "2020-11-04 10:35:00   911.2   912.5   910.8   912.5    2731   910.7    911.5   \n",
       "2020-11-04 11:00:00   913.5   914.2   912.8   914.2    1996   913.0    913.7   \n",
       "2020-11-06 13:40:00   904.5   906.7   904.4   906.7    2806   903.5    905.0   \n",
       "...                     ...     ...     ...     ...     ...     ...      ...   \n",
       "2025-02-05 13:50:00  1331.9  1333.4  1331.5  1333.4    5276  1330.6   1331.8   \n",
       "2025-02-06 09:55:00  1342.5  1344.3  1342.3  1344.3    4723  1341.5   1342.7   \n",
       "2025-02-11 13:25:00  1331.2  1332.5  1331.2  1332.5    3534  1329.6   1331.4   \n",
       "2025-02-13 10:40:00  1328.7  1329.8  1328.6  1329.8    4716  1327.4   1328.8   \n",
       "2025-02-13 13:15:00  1333.8  1335.9  1333.6  1335.9    6130  1333.1   1333.9   \n",
       "\n",
       "                    condition_1 condition_2 signal  Higher_High  Lower_Low  \\\n",
       "Date                                                                         \n",
       "2020-11-04 10:05:00        long        long   long            1          0   \n",
       "2020-11-04 10:15:00        long        long   long            1          0   \n",
       "2020-11-04 10:35:00        long        long   long            1          0   \n",
       "2020-11-04 11:00:00        long        long   long            1          1   \n",
       "2020-11-06 13:40:00        long        long   long            1          0   \n",
       "...                         ...         ...    ...          ...        ...   \n",
       "2025-02-05 13:50:00        long        long   long            1          0   \n",
       "2025-02-06 09:55:00        long        long   long            1          0   \n",
       "2025-02-11 13:25:00        long        long   long            1          0   \n",
       "2025-02-13 10:40:00        long        long   long            1          0   \n",
       "2025-02-13 13:15:00        long        long   long            1          0   \n",
       "\n",
       "                     Higher_High_Count  Lower_Low_Count  Green_cs  Red_cs  \\\n",
       "Date                                                                        \n",
       "2020-11-04 10:05:00               19.0             22.0         1       0   \n",
       "2020-11-04 10:15:00               20.0             21.0         1       0   \n",
       "2020-11-04 10:35:00               21.0             21.0         1       0   \n",
       "2020-11-04 11:00:00               22.0             21.0         1       0   \n",
       "2020-11-06 13:40:00               18.0             23.0         1       0   \n",
       "...                                ...              ...       ...     ...   \n",
       "2025-02-05 13:50:00               23.0             21.0         1       0   \n",
       "2025-02-06 09:55:00               23.0             20.0         1       0   \n",
       "2025-02-11 13:25:00               19.0             23.0         1       0   \n",
       "2025-02-13 10:40:00               19.0             23.0         1       0   \n",
       "2025-02-13 13:15:00               24.0             16.0         1       0   \n",
       "\n",
       "                     Green_CS_Count  Red_CS_Count  Diff_Open_Close  \\\n",
       "Date                                                                 \n",
       "2020-11-04 10:05:00            19.0          27.0              0.8   \n",
       "2020-11-04 10:15:00            21.0          27.0              1.3   \n",
       "2020-11-04 10:35:00            21.0          28.0              1.3   \n",
       "2020-11-04 11:00:00            22.0          27.0              0.7   \n",
       "2020-11-06 13:40:00            19.0          29.0              2.2   \n",
       "...                             ...           ...              ...   \n",
       "2025-02-05 13:50:00            20.0          27.0              1.5   \n",
       "2025-02-06 09:55:00            24.0          24.0              1.8   \n",
       "2025-02-11 13:25:00            22.0          24.0              1.3   \n",
       "2025-02-13 10:40:00            19.0          27.0              1.1   \n",
       "2025-02-13 13:15:00            21.0          25.0              2.1   \n",
       "\n",
       "                     Diff_Open_Close_Sum  \n",
       "Date                                      \n",
       "2020-11-04 10:05:00                  0.9  \n",
       "2020-11-04 10:15:00                  3.1  \n",
       "2020-11-04 10:35:00                  2.8  \n",
       "2020-11-04 11:00:00                  2.9  \n",
       "2020-11-06 13:40:00                -11.9  \n",
       "...                                  ...  \n",
       "2025-02-05 13:50:00                  0.9  \n",
       "2025-02-06 09:55:00                  9.9  \n",
       "2025-02-11 13:25:00                 -4.3  \n",
       "2025-02-13 10:40:00                 -8.6  \n",
       "2025-02-13 13:15:00                 -2.3  \n",
       "\n",
       "[1102 rows x 20 columns]"
      ]
     },
     "execution_count": 35,
     "metadata": {},
     "output_type": "execute_result"
    }
   ],
   "source": [
    "data[data.signal != '']"
   ]
  },
  {
   "cell_type": "markdown",
   "id": "d2a773be-626e-4319-bb79-9d7de1fc47fc",
   "metadata": {},
   "source": [
    "## TRAP labeling"
   ]
  },
  {
   "cell_type": "code",
   "execution_count": 36,
   "id": "5db75eb0-0a1e-4262-b6ce-47a8e913a8eb",
   "metadata": {},
   "outputs": [],
   "source": [
    "traps = []\n",
    "for i, row in data.iterrows():\n",
    "    if row['signal']:\n",
    "        current_date = row.name.strftime('%Y-%m-%d ').format()\n",
    "        current_time = row.name\n",
    "        data_to_end_day = data[(data.index > current_time) & (data.index < current_date + ' 14:30:00')]\n",
    "        #\n",
    "        data_at_end_day = data[data.index == current_date + ' 14:25:00']\n",
    "        last_close = data_at_end_day.iloc[0]['Close']\n",
    "        #\n",
    "        if len(data_to_end_day[data_to_end_day.Low < row['Close'] - 3.5]) > 0 or row['Close'] > last_close:\n",
    "            traps.append(1)\n",
    "        else:\n",
    "            traps.append(0)\n",
    "    else:\n",
    "        traps.append('')"
   ]
  },
  {
   "cell_type": "code",
   "execution_count": 37,
   "id": "6f858728-b6dd-432d-a54f-4c2f0e41b393",
   "metadata": {},
   "outputs": [],
   "source": [
    "data['trap'] = traps"
   ]
  },
  {
   "cell_type": "code",
   "execution_count": 38,
   "id": "8800b05b-df7c-44a3-a73a-ad97933ef992",
   "metadata": {},
   "outputs": [],
   "source": [
    "data.dropna(inplace=True)"
   ]
  },
  {
   "cell_type": "code",
   "execution_count": 39,
   "id": "18682bb8-18a7-4704-8658-91f845ec1b50",
   "metadata": {},
   "outputs": [],
   "source": [
    "signal_data = data[data.signal != '']\n",
    "signal_data.dropna(inplace=True)"
   ]
  },
  {
   "cell_type": "code",
   "execution_count": 40,
   "id": "6f91da6b-2e03-49c5-8267-ba39053f691d",
   "metadata": {},
   "outputs": [
    {
     "data": {
      "text/plain": [
       "1102"
      ]
     },
     "execution_count": 40,
     "metadata": {},
     "output_type": "execute_result"
    }
   ],
   "source": [
    "len(signal_data)"
   ]
  },
  {
   "cell_type": "markdown",
   "id": "517926f6-a064-4761-a2f9-15eb913ea31c",
   "metadata": {},
   "source": [
    "## Features"
   ]
  },
  {
   "cell_type": "code",
   "execution_count": 41,
   "id": "5ae0161d-c970-4a99-9f98-c3e3e6250003",
   "metadata": {},
   "outputs": [],
   "source": [
    "X = signal_data[['Higher_High_Count', 'Lower_Low_Count', \"Green_CS_Count\", 'Red_CS_Count', 'Diff_Open_Close_Sum', \"trap\"]]\n",
    "# Train-Test Split\n",
    "X_train = X[X.index < '2024-07-01 00:00:00']\n",
    "X_test = X[X.index > '2024-07-01 00:00:00']\n",
    "X_train['trap'] = X_train['trap'].astype(int)"
   ]
  },
  {
   "cell_type": "code",
   "execution_count": 42,
   "id": "ea33cb8e-27f6-4ec3-8c1c-ea22bfe1a964",
   "metadata": {},
   "outputs": [
    {
     "data": {
      "text/plain": [
       "959"
      ]
     },
     "execution_count": 42,
     "metadata": {},
     "output_type": "execute_result"
    }
   ],
   "source": [
    "len(X_train)"
   ]
  },
  {
   "cell_type": "code",
   "execution_count": 43,
   "id": "71368aca-473d-4639-83ad-ba304a857d7c",
   "metadata": {},
   "outputs": [
    {
     "data": {
      "text/plain": [
       "354"
      ]
     },
     "execution_count": 43,
     "metadata": {},
     "output_type": "execute_result"
    }
   ],
   "source": [
    "len(X_train[X_train.trap == 0])"
   ]
  },
  {
   "cell_type": "code",
   "execution_count": 44,
   "id": "f3f992ff-47bb-4206-9689-7a2044de4082",
   "metadata": {},
   "outputs": [],
   "source": [
    "X_none_trap = X_train[X_train.trap == 0]\n",
    "balanced_X_train = pd.concat([X_train, X_none_trap], ignore_index=True)"
   ]
  },
  {
   "cell_type": "code",
   "execution_count": 45,
   "id": "a3a8ec48-d099-4091-ab61-3b33e6400c5a",
   "metadata": {},
   "outputs": [
    {
     "data": {
      "text/plain": [
       "1313"
      ]
     },
     "execution_count": 45,
     "metadata": {},
     "output_type": "execute_result"
    }
   ],
   "source": [
    "len(balanced_X_train)"
   ]
  },
  {
   "cell_type": "code",
   "execution_count": 46,
   "id": "ffd31e3d-d3f2-41a4-9fec-3f22d0e00a2c",
   "metadata": {},
   "outputs": [
    {
     "data": {
      "text/plain": [
       "0.5392231530845393"
      ]
     },
     "execution_count": 46,
     "metadata": {},
     "output_type": "execute_result"
    }
   ],
   "source": [
    "len(balanced_X_train[balanced_X_train.trap == 0]) / len(balanced_X_train)"
   ]
  },
  {
   "cell_type": "code",
   "execution_count": 83,
   "id": "98189ed7-6d07-480b-9df5-d835d6dc869c",
   "metadata": {},
   "outputs": [
    {
     "data": {
      "text/plain": [
       "143"
      ]
     },
     "execution_count": 83,
     "metadata": {},
     "output_type": "execute_result"
    }
   ],
   "source": [
    "len(X_test)"
   ]
  },
  {
   "cell_type": "code",
   "execution_count": 47,
   "id": "da99c0ba-8833-4d9c-a32f-d1af2d8dbde8",
   "metadata": {},
   "outputs": [
    {
     "data": {
      "text/html": [
       "<div>\n",
       "<style scoped>\n",
       "    .dataframe tbody tr th:only-of-type {\n",
       "        vertical-align: middle;\n",
       "    }\n",
       "\n",
       "    .dataframe tbody tr th {\n",
       "        vertical-align: top;\n",
       "    }\n",
       "\n",
       "    .dataframe thead th {\n",
       "        text-align: right;\n",
       "    }\n",
       "</style>\n",
       "<table border=\"1\" class=\"dataframe\">\n",
       "  <thead>\n",
       "    <tr style=\"text-align: right;\">\n",
       "      <th></th>\n",
       "      <th>Higher_High_Count</th>\n",
       "      <th>Lower_Low_Count</th>\n",
       "      <th>Green_CS_Count</th>\n",
       "      <th>Red_CS_Count</th>\n",
       "      <th>Diff_Open_Close_Sum</th>\n",
       "      <th>trap</th>\n",
       "    </tr>\n",
       "    <tr>\n",
       "      <th>Date</th>\n",
       "      <th></th>\n",
       "      <th></th>\n",
       "      <th></th>\n",
       "      <th></th>\n",
       "      <th></th>\n",
       "      <th></th>\n",
       "    </tr>\n",
       "  </thead>\n",
       "  <tbody>\n",
       "    <tr>\n",
       "      <th>2024-07-02 09:05:00</th>\n",
       "      <td>26.0</td>\n",
       "      <td>25.0</td>\n",
       "      <td>21.0</td>\n",
       "      <td>21.0</td>\n",
       "      <td>8.6</td>\n",
       "      <td>0</td>\n",
       "    </tr>\n",
       "    <tr>\n",
       "      <th>2024-07-02 11:25:00</th>\n",
       "      <td>37.0</td>\n",
       "      <td>20.0</td>\n",
       "      <td>27.0</td>\n",
       "      <td>18.0</td>\n",
       "      <td>20.2</td>\n",
       "      <td>0</td>\n",
       "    </tr>\n",
       "    <tr>\n",
       "      <th>2024-07-03 10:30:00</th>\n",
       "      <td>25.0</td>\n",
       "      <td>19.0</td>\n",
       "      <td>23.0</td>\n",
       "      <td>22.0</td>\n",
       "      <td>4.9</td>\n",
       "      <td>0</td>\n",
       "    </tr>\n",
       "    <tr>\n",
       "      <th>2024-07-03 13:25:00</th>\n",
       "      <td>23.0</td>\n",
       "      <td>18.0</td>\n",
       "      <td>22.0</td>\n",
       "      <td>21.0</td>\n",
       "      <td>6.3</td>\n",
       "      <td>0</td>\n",
       "    </tr>\n",
       "    <tr>\n",
       "      <th>2024-07-04 10:55:00</th>\n",
       "      <td>28.0</td>\n",
       "      <td>17.0</td>\n",
       "      <td>26.0</td>\n",
       "      <td>21.0</td>\n",
       "      <td>10.2</td>\n",
       "      <td>1</td>\n",
       "    </tr>\n",
       "    <tr>\n",
       "      <th>...</th>\n",
       "      <td>...</td>\n",
       "      <td>...</td>\n",
       "      <td>...</td>\n",
       "      <td>...</td>\n",
       "      <td>...</td>\n",
       "      <td>...</td>\n",
       "    </tr>\n",
       "    <tr>\n",
       "      <th>2025-02-05 13:50:00</th>\n",
       "      <td>23.0</td>\n",
       "      <td>21.0</td>\n",
       "      <td>20.0</td>\n",
       "      <td>27.0</td>\n",
       "      <td>0.9</td>\n",
       "      <td>0</td>\n",
       "    </tr>\n",
       "    <tr>\n",
       "      <th>2025-02-06 09:55:00</th>\n",
       "      <td>23.0</td>\n",
       "      <td>20.0</td>\n",
       "      <td>24.0</td>\n",
       "      <td>24.0</td>\n",
       "      <td>9.9</td>\n",
       "      <td>1</td>\n",
       "    </tr>\n",
       "    <tr>\n",
       "      <th>2025-02-11 13:25:00</th>\n",
       "      <td>19.0</td>\n",
       "      <td>23.0</td>\n",
       "      <td>22.0</td>\n",
       "      <td>24.0</td>\n",
       "      <td>-4.3</td>\n",
       "      <td>1</td>\n",
       "    </tr>\n",
       "    <tr>\n",
       "      <th>2025-02-13 10:40:00</th>\n",
       "      <td>19.0</td>\n",
       "      <td>23.0</td>\n",
       "      <td>19.0</td>\n",
       "      <td>27.0</td>\n",
       "      <td>-8.6</td>\n",
       "      <td>0</td>\n",
       "    </tr>\n",
       "    <tr>\n",
       "      <th>2025-02-13 13:15:00</th>\n",
       "      <td>24.0</td>\n",
       "      <td>16.0</td>\n",
       "      <td>21.0</td>\n",
       "      <td>25.0</td>\n",
       "      <td>-2.3</td>\n",
       "      <td>0</td>\n",
       "    </tr>\n",
       "  </tbody>\n",
       "</table>\n",
       "<p>143 rows × 6 columns</p>\n",
       "</div>"
      ],
      "text/plain": [
       "                     Higher_High_Count  Lower_Low_Count  Green_CS_Count  \\\n",
       "Date                                                                      \n",
       "2024-07-02 09:05:00               26.0             25.0            21.0   \n",
       "2024-07-02 11:25:00               37.0             20.0            27.0   \n",
       "2024-07-03 10:30:00               25.0             19.0            23.0   \n",
       "2024-07-03 13:25:00               23.0             18.0            22.0   \n",
       "2024-07-04 10:55:00               28.0             17.0            26.0   \n",
       "...                                ...              ...             ...   \n",
       "2025-02-05 13:50:00               23.0             21.0            20.0   \n",
       "2025-02-06 09:55:00               23.0             20.0            24.0   \n",
       "2025-02-11 13:25:00               19.0             23.0            22.0   \n",
       "2025-02-13 10:40:00               19.0             23.0            19.0   \n",
       "2025-02-13 13:15:00               24.0             16.0            21.0   \n",
       "\n",
       "                     Red_CS_Count  Diff_Open_Close_Sum trap  \n",
       "Date                                                         \n",
       "2024-07-02 09:05:00          21.0                  8.6    0  \n",
       "2024-07-02 11:25:00          18.0                 20.2    0  \n",
       "2024-07-03 10:30:00          22.0                  4.9    0  \n",
       "2024-07-03 13:25:00          21.0                  6.3    0  \n",
       "2024-07-04 10:55:00          21.0                 10.2    1  \n",
       "...                           ...                  ...  ...  \n",
       "2025-02-05 13:50:00          27.0                  0.9    0  \n",
       "2025-02-06 09:55:00          24.0                  9.9    1  \n",
       "2025-02-11 13:25:00          24.0                 -4.3    1  \n",
       "2025-02-13 10:40:00          27.0                 -8.6    0  \n",
       "2025-02-13 13:15:00          25.0                 -2.3    0  \n",
       "\n",
       "[143 rows x 6 columns]"
      ]
     },
     "execution_count": 47,
     "metadata": {},
     "output_type": "execute_result"
    }
   ],
   "source": [
    "X_test"
   ]
  },
  {
   "cell_type": "code",
   "execution_count": 50,
   "id": "b2dc062f-8f5f-46a9-9a44-c560cf47708c",
   "metadata": {},
   "outputs": [],
   "source": [
    "def eval_genomes(genomes, config):\n",
    "    for genome_id, genome in genomes:\n",
    "        genome.fitness = 4.0\n",
    "        net = neat.nn.FeedForwardNetwork.create(genome, config)\n",
    "        for move_index, row in balanced_X_train.iterrows():\n",
    "            inputs = [row['Higher_High_Count'], row['Lower_Low_Count'], row['Green_CS_Count'], row['Red_CS_Count'], row['Diff_Open_Close_Sum']]\n",
    "            expected_output = row['trap']\n",
    "            output = net.activate(inputs)\n",
    "            genome.fitness -= (output[0] - expected_output) ** 2\n",
    "            if genome.fitness < -200:\n",
    "                break\n",
    "\n",
    "\n",
    "def run(config_file):\n",
    "    # Load configuration.\n",
    "    config = neat.Config(neat.DefaultGenome, neat.DefaultReproduction,\n",
    "                         neat.DefaultSpeciesSet, neat.DefaultStagnation,\n",
    "                         config_file)\n",
    "\n",
    "    # Create the population, which is the top-level object for a NEAT run.\n",
    "    p = neat.Population(config)\n",
    "\n",
    "    # Add a stdout reporter to show progress in the terminal.\n",
    "    # p.add_reporter(neat.StdOutReporter(True))\n",
    "    # stats = neat.StatisticsReporter()\n",
    "    # p.add_reporter(stats)\n",
    "\n",
    "    # Run for up to 100 generations.\n",
    "    winner = p.run(eval_genomes, 100)\n",
    "\n",
    "    # Display the winning genome.\n",
    "    print('\\nBest genome:\\n{!s}'.format(winner))\n",
    "    return neat.nn.FeedForwardNetwork.create(winner, config)"
   ]
  },
  {
   "cell_type": "code",
   "execution_count": 51,
   "id": "1051a537-af40-482d-95a0-9a935cd5c77f",
   "metadata": {},
   "outputs": [
    {
     "name": "stdout",
     "output_type": "stream",
     "text": [
      "\n",
      "Best genome:\n",
      "Key: 1603\n",
      "Fitness: -200.00000000000003\n",
      "Nodes:\n",
      "\t0 DefaultNodeGene(key=0, bias=0.729219333932245, response=1.0, activation=sigmoid, aggregation=sum)\n",
      "Connections:\n",
      "\tDefaultConnectionGene(key=(-4, 0), weight=-0.7027739443848795, enabled=True)\n",
      "\tDefaultConnectionGene(key=(-3, 0), weight=2.3059137101741527, enabled=True)\n"
     ]
    }
   ],
   "source": [
    "config_path = os.path.join(current_dir, 'style-mix-3.cfg')\n",
    "best_brain = run(config_path)"
   ]
  },
  {
   "cell_type": "code",
   "execution_count": 52,
   "id": "fbbc0ed0-6fe2-421e-8f31-5405e2c85895",
   "metadata": {},
   "outputs": [
    {
     "data": {
      "text/plain": [
       "<neat.nn.feed_forward.FeedForwardNetwork at 0x7e511ed3df10>"
      ]
     },
     "execution_count": 52,
     "metadata": {},
     "output_type": "execute_result"
    }
   ],
   "source": [
    "best_brain"
   ]
  },
  {
   "cell_type": "code",
   "execution_count": 53,
   "id": "f2c4e2da-893b-4265-9298-d8094f7f17bc",
   "metadata": {},
   "outputs": [],
   "source": [
    "# Show output of the most fit genome against training data.\n",
    "outputs = []\n",
    "for i, row in X_test.iterrows():\n",
    "    inputs = [row['Higher_High_Count'], row['Lower_Low_Count'], row['Green_CS_Count'], row['Red_CS_Count'], row['Diff_Open_Close_Sum']]\n",
    "    expected_output = row['trap']\n",
    "    output = best_brain.activate(inputs)\n",
    "    outputs.append(round(output[0]))\n",
    "    # print(\"input {!r}, expected output {!r}, got {!r}\".format(inputs, expected_output, output))"
   ]
  },
  {
   "cell_type": "code",
   "execution_count": 54,
   "id": "aec94111-45a2-4252-956f-15b71626630c",
   "metadata": {},
   "outputs": [
    {
     "name": "stdout",
     "output_type": "stream",
     "text": [
      "Accuracy: 0.6013986013986014\n"
     ]
    }
   ],
   "source": [
    "expected_outputs = X_test['trap'].to_list()\n",
    "# Evaluate Performance\n",
    "print(\"Accuracy:\", accuracy_score(expected_outputs, outputs))"
   ]
  },
  {
   "cell_type": "code",
   "execution_count": null,
   "id": "29f58184-cb96-42e7-897c-9c5123d5087b",
   "metadata": {},
   "outputs": [],
   "source": []
  }
 ],
 "metadata": {
  "kernelspec": {
   "display_name": "Python 3 (ipykernel)",
   "language": "python",
   "name": "python3"
  },
  "language_info": {
   "codemirror_mode": {
    "name": "ipython",
    "version": 3
   },
   "file_extension": ".py",
   "mimetype": "text/x-python",
   "name": "python",
   "nbconvert_exporter": "python",
   "pygments_lexer": "ipython3",
   "version": "3.11.4"
  }
 },
 "nbformat": 4,
 "nbformat_minor": 5
}
