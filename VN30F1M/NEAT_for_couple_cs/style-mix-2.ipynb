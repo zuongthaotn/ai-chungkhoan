{
 "cells": [
  {
   "cell_type": "markdown",
   "id": "3bb3aa97-7914-4430-8beb-3faa67ba7dad",
   "metadata": {},
   "source": [
    "# Detecting Couple candlestick traps by using NEAT"
   ]
  },
  {
   "cell_type": "code",
   "execution_count": 26,
   "id": "bf6fc742-788c-46ef-bbc9-0ba605d7c484",
   "metadata": {},
   "outputs": [],
   "source": [
    "## As similar mix-1 but no hidden input"
   ]
  },
  {
   "cell_type": "markdown",
   "id": "b4a3e1b0-889f-40f5-bfe1-ca5391c2a7ba",
   "metadata": {},
   "source": [
    "### Import Library"
   ]
  },
  {
   "cell_type": "code",
   "execution_count": 27,
   "id": "8ed51685-7682-46ce-9ab2-df7a6f6937c5",
   "metadata": {},
   "outputs": [],
   "source": [
    "import numpy as np\n",
    "import pandas as pd\n",
    "import numpy as np\n",
    "import pandas_ta as ta\n",
    "import seaborn as sns\n",
    "import os\n",
    "\n",
    "import matplotlib.pyplot as plt\n",
    "plt.rcParams['figure.figsize'] = [12, 6]\n",
    "plt.rcParams['figure.dpi'] = 120\n",
    "import warnings\n",
    "warnings.filterwarnings('ignore')"
   ]
  },
  {
   "cell_type": "code",
   "execution_count": 28,
   "id": "ce4c39f7-1d51-4cb9-b4e0-7b33a2c253c7",
   "metadata": {},
   "outputs": [],
   "source": [
    "from sklearn.model_selection import train_test_split\n",
    "from sklearn.metrics import accuracy_score, classification_report\n",
    "import neat"
   ]
  },
  {
   "cell_type": "markdown",
   "id": "fe85b31e-7106-4979-aba2-03093ade02ca",
   "metadata": {},
   "source": [
    "### Load Price Data"
   ]
  },
  {
   "cell_type": "code",
   "execution_count": 29,
   "id": "0f3bf6f4-aeb4-404e-932a-9afef6ea370a",
   "metadata": {},
   "outputs": [],
   "source": [
    "import os\n",
    "from pathlib import Path\n",
    "notebook_path = os.getcwd()\n",
    "current_dir = Path(notebook_path)\n",
    "csv_file = str(current_dir.parent) + '/VN30F1M_5minutes.csv'\n",
    "is_file = os.path.isfile(csv_file)\n",
    "if is_file:\n",
    "    dataset = pd.read_csv(csv_file, index_col='Date', parse_dates=True)\n",
    "else:\n",
    "    print(csv_file)\n",
    "    print('remote')\n",
    "    dataset = pd.read_csv(\"https://raw.githubusercontent.com/zuongthaotn/vn-stock-data/main/VN30ps/VN30F1M_5minutes.csv\", index_col='Date', parse_dates=True)"
   ]
  },
  {
   "cell_type": "code",
   "execution_count": 30,
   "id": "eff99ef6-2921-4245-b40d-eb6ecee0bc12",
   "metadata": {},
   "outputs": [],
   "source": [
    "data = dataset.copy()"
   ]
  },
  {
   "cell_type": "code",
   "execution_count": 31,
   "id": "7e8d5fbf-d32e-40e3-81e9-9698c0052b43",
   "metadata": {},
   "outputs": [],
   "source": [
    "data = data[data.index > '2020-11-01 00:00:00']"
   ]
  },
  {
   "cell_type": "code",
   "execution_count": 32,
   "id": "7f6eaf56-b730-4a7e-b5f7-b12d5a215934",
   "metadata": {},
   "outputs": [
    {
     "data": {
      "text/plain": [
       "51"
      ]
     },
     "execution_count": 32,
     "metadata": {},
     "output_type": "execute_result"
    }
   ],
   "source": [
    "len(data[(data.index > '2025-02-14 00:00:00') & (data.index < '2025-02-14 23:00:00')])"
   ]
  },
  {
   "cell_type": "code",
   "execution_count": 33,
   "id": "a7b549f4-98d8-4565-b092-3a49ba96d93a",
   "metadata": {},
   "outputs": [],
   "source": [
    "def set_condition_1(r):\n",
    "    cond = ''\n",
    "    if r['Open'] < r['Close'] <= r['High'] - 0.1:\n",
    "        # Xanh va co bong nen tren\n",
    "        cond = 'long'\n",
    "    return cond\n",
    "\n",
    "\n",
    "def set_condition_2(r):\n",
    "    cond = ''\n",
    "    if r['Open'] < r['Close'] == r['High'] and r['High'] > r['high_s1']:\n",
    "        # Xanh va khong co bong nen tren\n",
    "        cond = 'long'\n",
    "    return cond\n",
    "    \n",
    "\n",
    "def get_couple_candleticks_signal(r):\n",
    "    signal = ''\n",
    "    if 100 * r.name.hour + r.name.minute >= 1425:\n",
    "        return signal\n",
    "    if r['condition_1'] == 'long' and r['condition_2'] == 'long':\n",
    "        signal = 'long'\n",
    "    return signal"
   ]
  },
  {
   "cell_type": "code",
   "execution_count": 34,
   "id": "70bd54b3-cffe-449d-807c-836dd0eefe4d",
   "metadata": {},
   "outputs": [],
   "source": [
    "# Couple candlesticks signal\n",
    "data['low_s1'] = data['Low'].shift(1)\n",
    "data['high_s1'] = data['High'].shift(1)\n",
    "data['condition_1'] = data.apply(lambda r: set_condition_1(r), axis=1)\n",
    "data['condition_1'] = data['condition_1'].shift(1)\n",
    "data['condition_2'] = data.apply(lambda r: set_condition_2(r), axis=1)\n",
    "data['signal'] = data.apply(lambda r: get_couple_candleticks_signal(r), axis=1)"
   ]
  },
  {
   "cell_type": "code",
   "execution_count": 35,
   "id": "162de05d-37ab-4939-8f99-eeab9050eeed",
   "metadata": {},
   "outputs": [],
   "source": [
    "data[\"ATR\"] = ta.atr(data[\"High\"], data[\"Low\"], data[\"Close\"], length=14)  # Volatility\n",
    "data[\"RSI\"] = ta.rsi(data[\"Close\"], length=14)  # Momentum indicator\n",
    "data['min_5'] = data['Low'].rolling(5).min()\n",
    "data['min_51'] = data['Low'].shift(1).rolling(50).min()\n",
    "data['max_51'] = data['Low'].shift(1).rolling(50).max()\n",
    "data['close_s1'] = data['Close'].shift(1)\n",
    "data['price_move'] = data.apply(lambda r: r['Close'] - r['close_s1'], axis=1)"
   ]
  },
  {
   "cell_type": "markdown",
   "id": "d2a773be-626e-4319-bb79-9d7de1fc47fc",
   "metadata": {},
   "source": [
    "## TRAP labeling"
   ]
  },
  {
   "cell_type": "code",
   "execution_count": 36,
   "id": "5db75eb0-0a1e-4262-b6ce-47a8e913a8eb",
   "metadata": {},
   "outputs": [],
   "source": [
    "traps = []\n",
    "for i, row in data.iterrows():\n",
    "    if row['signal']:\n",
    "        current_date = row.name.strftime('%Y-%m-%d ').format()\n",
    "        current_time = row.name\n",
    "        data_to_end_day = data[(data.index > current_time) & (data.index < current_date + ' 14:30:00')]\n",
    "        #\n",
    "        data_at_end_day = data[data.index == current_date + ' 14:25:00']\n",
    "        last_close = data_at_end_day.iloc[0]['Close']\n",
    "        #\n",
    "        if len(data_to_end_day[data_to_end_day.Low < row['Close'] - 3.5]) > 0 or row['Close'] > last_close:\n",
    "            traps.append(1)\n",
    "        else:\n",
    "            traps.append(0)\n",
    "    else:\n",
    "        traps.append('')"
   ]
  },
  {
   "cell_type": "code",
   "execution_count": 37,
   "id": "6f858728-b6dd-432d-a54f-4c2f0e41b393",
   "metadata": {},
   "outputs": [],
   "source": [
    "data['trap'] = traps"
   ]
  },
  {
   "cell_type": "code",
   "execution_count": 38,
   "id": "18682bb8-18a7-4704-8658-91f845ec1b50",
   "metadata": {},
   "outputs": [],
   "source": [
    "signal_data = data[data.signal != '']\n",
    "signal_data.dropna(inplace=True)"
   ]
  },
  {
   "cell_type": "code",
   "execution_count": 39,
   "id": "6f91da6b-2e03-49c5-8267-ba39053f691d",
   "metadata": {},
   "outputs": [
    {
     "data": {
      "text/plain": [
       "1102"
      ]
     },
     "execution_count": 39,
     "metadata": {},
     "output_type": "execute_result"
    }
   ],
   "source": [
    "len(signal_data)"
   ]
  },
  {
   "cell_type": "markdown",
   "id": "517926f6-a064-4761-a2f9-15eb913ea31c",
   "metadata": {},
   "source": [
    "## Features"
   ]
  },
  {
   "cell_type": "code",
   "execution_count": 40,
   "id": "5ae0161d-c970-4a99-9f98-c3e3e6250003",
   "metadata": {},
   "outputs": [],
   "source": [
    "X = signal_data[['ATR', 'RSI', 'min_5', 'min_51', 'max_51', 'price_move', \"trap\"]]\n",
    "# Train-Test Split\n",
    "X_train = X[X.index < '2024-07-01 00:00:00']\n",
    "X_test = X[X.index > '2024-07-01 00:00:00']\n",
    "X_train['trap'] = X_train['trap'].astype(int)"
   ]
  },
  {
   "cell_type": "code",
   "execution_count": 41,
   "id": "ea33cb8e-27f6-4ec3-8c1c-ea22bfe1a964",
   "metadata": {},
   "outputs": [
    {
     "data": {
      "text/plain": [
       "959"
      ]
     },
     "execution_count": 41,
     "metadata": {},
     "output_type": "execute_result"
    }
   ],
   "source": [
    "len(X_train)"
   ]
  },
  {
   "cell_type": "code",
   "execution_count": 42,
   "id": "71368aca-473d-4639-83ad-ba304a857d7c",
   "metadata": {},
   "outputs": [
    {
     "data": {
      "text/plain": [
       "354"
      ]
     },
     "execution_count": 42,
     "metadata": {},
     "output_type": "execute_result"
    }
   ],
   "source": [
    "len(X_train[X_train.trap == 0])"
   ]
  },
  {
   "cell_type": "code",
   "execution_count": 43,
   "id": "f3f992ff-47bb-4206-9689-7a2044de4082",
   "metadata": {},
   "outputs": [],
   "source": [
    "X_none_trap = X_train[X_train.trap == 0]\n",
    "X2_none_trap = pd.concat([X_none_trap, X_none_trap], ignore_index=True)\n",
    "balanced_X_train = pd.concat([X_train, X2_none_trap], ignore_index=True)"
   ]
  },
  {
   "cell_type": "code",
   "execution_count": 44,
   "id": "a3a8ec48-d099-4091-ab61-3b33e6400c5a",
   "metadata": {},
   "outputs": [
    {
     "data": {
      "text/plain": [
       "1667"
      ]
     },
     "execution_count": 44,
     "metadata": {},
     "output_type": "execute_result"
    }
   ],
   "source": [
    "len(balanced_X_train)"
   ]
  },
  {
   "cell_type": "code",
   "execution_count": 45,
   "id": "98189ed7-6d07-480b-9df5-d835d6dc869c",
   "metadata": {},
   "outputs": [
    {
     "data": {
      "text/plain": [
       "143"
      ]
     },
     "execution_count": 45,
     "metadata": {},
     "output_type": "execute_result"
    }
   ],
   "source": [
    "len(X_test)"
   ]
  },
  {
   "cell_type": "code",
   "execution_count": 46,
   "id": "b2dc062f-8f5f-46a9-9a44-c560cf47708c",
   "metadata": {},
   "outputs": [],
   "source": [
    "def eval_genomes(genomes, config):\n",
    "    for genome_id, genome in genomes:\n",
    "        genome.fitness = 4.0\n",
    "        net = neat.nn.FeedForwardNetwork.create(genome, config)\n",
    "        for move_index, row in balanced_X_train.iterrows():\n",
    "            inputs = [row['ATR'], row['RSI'], row['min_5'], row['price_move']]\n",
    "            expected_output = row['trap']\n",
    "            output = net.activate(inputs)\n",
    "            genome.fitness -= (output[0] - expected_output) ** 2\n",
    "            if genome.fitness < -400:\n",
    "                break\n",
    "\n",
    "\n",
    "def run(config_file):\n",
    "    # Load configuration.\n",
    "    config = neat.Config(neat.DefaultGenome, neat.DefaultReproduction,\n",
    "                         neat.DefaultSpeciesSet, neat.DefaultStagnation,\n",
    "                         config_file)\n",
    "\n",
    "    # Create the population, which is the top-level object for a NEAT run.\n",
    "    p = neat.Population(config)\n",
    "\n",
    "    # Add a stdout reporter to show progress in the terminal.\n",
    "    # p.add_reporter(neat.StdOutReporter(True))\n",
    "    # stats = neat.StatisticsReporter()\n",
    "    # p.add_reporter(stats)\n",
    "\n",
    "    # Run for up to 100 generations.\n",
    "    winner = p.run(eval_genomes, 300)\n",
    "\n",
    "    # Display the winning genome.\n",
    "    print('\\nBest genome:\\n{!s}'.format(winner))\n",
    "    return neat.nn.FeedForwardNetwork.create(winner, config)"
   ]
  },
  {
   "cell_type": "code",
   "execution_count": 47,
   "id": "1051a537-af40-482d-95a0-9a935cd5c77f",
   "metadata": {},
   "outputs": [
    {
     "name": "stdout",
     "output_type": "stream",
     "text": [
      "\n",
      "Best genome:\n",
      "Key: 17024\n",
      "Fitness: -360.2000290015785\n",
      "Nodes:\n",
      "\t0 DefaultNodeGene(key=0, bias=0.787095786567313, response=1.0, activation=sigmoid, aggregation=sum)\n",
      "\t158 DefaultNodeGene(key=158, bias=0.7549142057993519, response=1.0, activation=sigmoid, aggregation=sum)\n",
      "\t196 DefaultNodeGene(key=196, bias=0.4536032640214623, response=1.0, activation=sigmoid, aggregation=sum)\n",
      "\t224 DefaultNodeGene(key=224, bias=-0.3022723387196376, response=1.0, activation=sigmoid, aggregation=sum)\n",
      "\t728 DefaultNodeGene(key=728, bias=-0.1911569634004439, response=1.0, activation=sigmoid, aggregation=sum)\n",
      "\t759 DefaultNodeGene(key=759, bias=1.255326677487123, response=1.0, activation=sigmoid, aggregation=sum)\n",
      "Connections:\n",
      "\tDefaultConnectionGene(key=(-3, 196), weight=2.4539251115393586, enabled=False)\n",
      "\tDefaultConnectionGene(key=(-3, 224), weight=1.835876211569714, enabled=True)\n",
      "\tDefaultConnectionGene(key=(-1, 158), weight=-1.028974274782388, enabled=True)\n",
      "\tDefaultConnectionGene(key=(0, 759), weight=0.024691784736891254, enabled=True)\n",
      "\tDefaultConnectionGene(key=(158, 0), weight=-0.27770662682664765, enabled=True)\n",
      "\tDefaultConnectionGene(key=(158, 196), weight=0.22721650665970966, enabled=False)\n",
      "\tDefaultConnectionGene(key=(158, 728), weight=0.6434330682276661, enabled=True)\n",
      "\tDefaultConnectionGene(key=(158, 759), weight=1.0826517114807412, enabled=True)\n",
      "\tDefaultConnectionGene(key=(224, 0), weight=-0.7966029488389255, enabled=True)\n",
      "\tDefaultConnectionGene(key=(224, 158), weight=0.976628360842924, enabled=True)\n",
      "\tDefaultConnectionGene(key=(759, 196), weight=-0.31927517066104977, enabled=True)\n"
     ]
    }
   ],
   "source": [
    "config_path = os.path.join(current_dir, 'style-mix-2.cfg')\n",
    "best_brain = run(config_path)"
   ]
  },
  {
   "cell_type": "code",
   "execution_count": 48,
   "id": "fbbc0ed0-6fe2-421e-8f31-5405e2c85895",
   "metadata": {},
   "outputs": [
    {
     "data": {
      "text/plain": [
       "<neat.nn.feed_forward.FeedForwardNetwork at 0x70e64f1a5fd0>"
      ]
     },
     "execution_count": 48,
     "metadata": {},
     "output_type": "execute_result"
    }
   ],
   "source": [
    "best_brain"
   ]
  },
  {
   "cell_type": "code",
   "execution_count": 49,
   "id": "f2c4e2da-893b-4265-9298-d8094f7f17bc",
   "metadata": {},
   "outputs": [],
   "source": [
    "# Show output of the most fit genome against training data.\n",
    "outputs = []\n",
    "for i, row in X_test.iterrows():\n",
    "    inputs = [row['ATR'], row['RSI'], row['min_5'], row['price_move']]\n",
    "    expected_output = row['trap']\n",
    "    output = best_brain.activate(inputs)\n",
    "    outputs.append(round(output[0]))\n",
    "    # print(\"input {!r}, expected output {!r}, got {!r}\".format(inputs, expected_output, output))"
   ]
  },
  {
   "cell_type": "code",
   "execution_count": 50,
   "id": "aec94111-45a2-4252-956f-15b71626630c",
   "metadata": {},
   "outputs": [
    {
     "name": "stdout",
     "output_type": "stream",
     "text": [
      "Accuracy: 0.3986013986013986\n"
     ]
    }
   ],
   "source": [
    "expected_outputs = X_test['trap'].to_list()\n",
    "# Evaluate Performance\n",
    "print(\"Accuracy:\", accuracy_score(expected_outputs, outputs))"
   ]
  },
  {
   "cell_type": "code",
   "execution_count": null,
   "id": "29f58184-cb96-42e7-897c-9c5123d5087b",
   "metadata": {},
   "outputs": [],
   "source": []
  }
 ],
 "metadata": {
  "kernelspec": {
   "display_name": "Python 3 (ipykernel)",
   "language": "python",
   "name": "python3"
  },
  "language_info": {
   "codemirror_mode": {
    "name": "ipython",
    "version": 3
   },
   "file_extension": ".py",
   "mimetype": "text/x-python",
   "name": "python",
   "nbconvert_exporter": "python",
   "pygments_lexer": "ipython3",
   "version": "3.11.4"
  }
 },
 "nbformat": 4,
 "nbformat_minor": 5
}
