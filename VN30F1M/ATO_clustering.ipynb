{
 "cells": [
  {
   "cell_type": "markdown",
   "id": "3bb3aa97-7914-4430-8beb-3faa67ba7dad",
   "metadata": {},
   "source": [
    "# First 15 minutes Long-Short - Detection(Predict, Classification)"
   ]
  },
  {
   "cell_type": "markdown",
   "id": "b4a3e1b0-889f-40f5-bfe1-ca5391c2a7ba",
   "metadata": {},
   "source": [
    "### Import Library"
   ]
  },
  {
   "cell_type": "code",
   "execution_count": 1,
   "id": "8ed51685-7682-46ce-9ab2-df7a6f6937c5",
   "metadata": {},
   "outputs": [],
   "source": [
    "import numpy as np\n",
    "import pandas as pd\n",
    "import numpy as np\n",
    "import pandas_ta as ta\n",
    "import seaborn as sns\n",
    "\n",
    "import matplotlib.pyplot as plt\n",
    "plt.rcParams['figure.figsize'] = [12, 6]\n",
    "plt.rcParams['figure.dpi'] = 120\n",
    "import warnings\n",
    "warnings.filterwarnings('ignore')"
   ]
  },
  {
   "cell_type": "markdown",
   "id": "fe85b31e-7106-4979-aba2-03093ade02ca",
   "metadata": {},
   "source": [
    "### Load Price Data"
   ]
  },
  {
   "cell_type": "code",
   "execution_count": 2,
   "id": "0f3bf6f4-aeb4-404e-932a-9afef6ea370a",
   "metadata": {},
   "outputs": [],
   "source": [
    "import os\n",
    "from pathlib import Path\n",
    "notebook_path = os.getcwd()\n",
    "current_dir = Path(notebook_path)\n",
    "csv_file = str(current_dir) + '/VN30F1M_5minutes.csv'\n",
    "is_file = os.path.isfile(csv_file)\n",
    "if is_file:\n",
    "    dataset = pd.read_csv(csv_file, index_col='Date', parse_dates=True)\n",
    "else:\n",
    "    print('remote')\n",
    "    dataset = pd.read_csv(\"https://raw.githubusercontent.com/zuongthaotn/vn-stock-data/main/VN30ps/VN30F1M_5minutes.csv\", index_col='Date', parse_dates=True)"
   ]
  },
  {
   "cell_type": "code",
   "execution_count": 3,
   "id": "eff99ef6-2921-4245-b40d-eb6ecee0bc12",
   "metadata": {},
   "outputs": [],
   "source": [
    "data = dataset.copy()"
   ]
  },
  {
   "cell_type": "code",
   "execution_count": 4,
   "id": "1fd3b0e4-aa77-43b7-b9c3-39a0fbf1e690",
   "metadata": {},
   "outputs": [
    {
     "data": {
      "text/html": [
       "<div>\n",
       "<style scoped>\n",
       "    .dataframe tbody tr th:only-of-type {\n",
       "        vertical-align: middle;\n",
       "    }\n",
       "\n",
       "    .dataframe tbody tr th {\n",
       "        vertical-align: top;\n",
       "    }\n",
       "\n",
       "    .dataframe thead th {\n",
       "        text-align: right;\n",
       "    }\n",
       "</style>\n",
       "<table border=\"1\" class=\"dataframe\">\n",
       "  <thead>\n",
       "    <tr style=\"text-align: right;\">\n",
       "      <th></th>\n",
       "      <th>Open</th>\n",
       "      <th>High</th>\n",
       "      <th>Low</th>\n",
       "      <th>Close</th>\n",
       "      <th>Volume</th>\n",
       "    </tr>\n",
       "    <tr>\n",
       "      <th>Date</th>\n",
       "      <th></th>\n",
       "      <th></th>\n",
       "      <th></th>\n",
       "      <th></th>\n",
       "      <th></th>\n",
       "    </tr>\n",
       "  </thead>\n",
       "  <tbody>\n",
       "    <tr>\n",
       "      <th>2018-08-13 09:00:00</th>\n",
       "      <td>943.5</td>\n",
       "      <td>943.6</td>\n",
       "      <td>942.9</td>\n",
       "      <td>943.1</td>\n",
       "      <td>1812</td>\n",
       "    </tr>\n",
       "    <tr>\n",
       "      <th>2018-08-13 09:05:00</th>\n",
       "      <td>943.1</td>\n",
       "      <td>943.5</td>\n",
       "      <td>942.9</td>\n",
       "      <td>943.3</td>\n",
       "      <td>1323</td>\n",
       "    </tr>\n",
       "    <tr>\n",
       "      <th>2018-08-13 09:10:00</th>\n",
       "      <td>943.2</td>\n",
       "      <td>943.3</td>\n",
       "      <td>942.6</td>\n",
       "      <td>943.1</td>\n",
       "      <td>1207</td>\n",
       "    </tr>\n",
       "    <tr>\n",
       "      <th>2018-08-13 09:15:00</th>\n",
       "      <td>943.1</td>\n",
       "      <td>943.1</td>\n",
       "      <td>942.3</td>\n",
       "      <td>942.6</td>\n",
       "      <td>1196</td>\n",
       "    </tr>\n",
       "    <tr>\n",
       "      <th>2018-08-13 09:20:00</th>\n",
       "      <td>942.6</td>\n",
       "      <td>943.7</td>\n",
       "      <td>942.4</td>\n",
       "      <td>943.7</td>\n",
       "      <td>1765</td>\n",
       "    </tr>\n",
       "    <tr>\n",
       "      <th>...</th>\n",
       "      <td>...</td>\n",
       "      <td>...</td>\n",
       "      <td>...</td>\n",
       "      <td>...</td>\n",
       "      <td>...</td>\n",
       "    </tr>\n",
       "    <tr>\n",
       "      <th>2025-02-14 14:15:00</th>\n",
       "      <td>1343.0</td>\n",
       "      <td>1343.0</td>\n",
       "      <td>1340.3</td>\n",
       "      <td>1341.3</td>\n",
       "      <td>7141</td>\n",
       "    </tr>\n",
       "    <tr>\n",
       "      <th>2025-02-14 14:20:00</th>\n",
       "      <td>1340.9</td>\n",
       "      <td>1341.9</td>\n",
       "      <td>1340.5</td>\n",
       "      <td>1341.4</td>\n",
       "      <td>4593</td>\n",
       "    </tr>\n",
       "    <tr>\n",
       "      <th>2025-02-14 14:25:00</th>\n",
       "      <td>1341.1</td>\n",
       "      <td>1342.5</td>\n",
       "      <td>1340.7</td>\n",
       "      <td>1342.5</td>\n",
       "      <td>4207</td>\n",
       "    </tr>\n",
       "    <tr>\n",
       "      <th>2025-02-14 14:30:00</th>\n",
       "      <td>1342.5</td>\n",
       "      <td>1342.5</td>\n",
       "      <td>1342.5</td>\n",
       "      <td>1342.5</td>\n",
       "      <td>150</td>\n",
       "    </tr>\n",
       "    <tr>\n",
       "      <th>2025-02-14 14:45:00</th>\n",
       "      <td>1341.8</td>\n",
       "      <td>1341.8</td>\n",
       "      <td>1341.8</td>\n",
       "      <td>1341.8</td>\n",
       "      <td>5684</td>\n",
       "    </tr>\n",
       "  </tbody>\n",
       "</table>\n",
       "<p>82630 rows × 5 columns</p>\n",
       "</div>"
      ],
      "text/plain": [
       "                       Open    High     Low   Close  Volume\n",
       "Date                                                       \n",
       "2018-08-13 09:00:00   943.5   943.6   942.9   943.1    1812\n",
       "2018-08-13 09:05:00   943.1   943.5   942.9   943.3    1323\n",
       "2018-08-13 09:10:00   943.2   943.3   942.6   943.1    1207\n",
       "2018-08-13 09:15:00   943.1   943.1   942.3   942.6    1196\n",
       "2018-08-13 09:20:00   942.6   943.7   942.4   943.7    1765\n",
       "...                     ...     ...     ...     ...     ...\n",
       "2025-02-14 14:15:00  1343.0  1343.0  1340.3  1341.3    7141\n",
       "2025-02-14 14:20:00  1340.9  1341.9  1340.5  1341.4    4593\n",
       "2025-02-14 14:25:00  1341.1  1342.5  1340.7  1342.5    4207\n",
       "2025-02-14 14:30:00  1342.5  1342.5  1342.5  1342.5     150\n",
       "2025-02-14 14:45:00  1341.8  1341.8  1341.8  1341.8    5684\n",
       "\n",
       "[82630 rows x 5 columns]"
      ]
     },
     "execution_count": 4,
     "metadata": {},
     "output_type": "execute_result"
    }
   ],
   "source": [
    "data"
   ]
  },
  {
   "cell_type": "code",
   "execution_count": 9,
   "id": "ee8c9ee2-6631-44f9-80a2-9e68ba61b15d",
   "metadata": {},
   "outputs": [],
   "source": [
    "_15m_data = data.copy().resample(\"15min\").agg({\n",
    "        'Open': 'first',\n",
    "        'Close': 'last',\n",
    "        'Low': 'min',\n",
    "        'High': 'max',\n",
    "        'Volume': 'sum'\n",
    "    })"
   ]
  },
  {
   "cell_type": "code",
   "execution_count": 10,
   "id": "16c26f25-dc11-464d-9d15-b935a256691d",
   "metadata": {},
   "outputs": [
    {
     "data": {
      "text/html": [
       "<div>\n",
       "<style scoped>\n",
       "    .dataframe tbody tr th:only-of-type {\n",
       "        vertical-align: middle;\n",
       "    }\n",
       "\n",
       "    .dataframe tbody tr th {\n",
       "        vertical-align: top;\n",
       "    }\n",
       "\n",
       "    .dataframe thead th {\n",
       "        text-align: right;\n",
       "    }\n",
       "</style>\n",
       "<table border=\"1\" class=\"dataframe\">\n",
       "  <thead>\n",
       "    <tr style=\"text-align: right;\">\n",
       "      <th></th>\n",
       "      <th>Open</th>\n",
       "      <th>Close</th>\n",
       "      <th>Low</th>\n",
       "      <th>High</th>\n",
       "      <th>Volume</th>\n",
       "    </tr>\n",
       "    <tr>\n",
       "      <th>Date</th>\n",
       "      <th></th>\n",
       "      <th></th>\n",
       "      <th></th>\n",
       "      <th></th>\n",
       "      <th></th>\n",
       "    </tr>\n",
       "  </thead>\n",
       "  <tbody>\n",
       "    <tr>\n",
       "      <th>2018-08-13 09:00:00</th>\n",
       "      <td>943.5</td>\n",
       "      <td>943.1</td>\n",
       "      <td>942.6</td>\n",
       "      <td>943.6</td>\n",
       "      <td>4342</td>\n",
       "    </tr>\n",
       "    <tr>\n",
       "      <th>2018-08-13 09:15:00</th>\n",
       "      <td>943.1</td>\n",
       "      <td>945.3</td>\n",
       "      <td>942.3</td>\n",
       "      <td>945.9</td>\n",
       "      <td>5430</td>\n",
       "    </tr>\n",
       "    <tr>\n",
       "      <th>2018-08-13 09:30:00</th>\n",
       "      <td>945.2</td>\n",
       "      <td>944.5</td>\n",
       "      <td>943.3</td>\n",
       "      <td>945.5</td>\n",
       "      <td>4933</td>\n",
       "    </tr>\n",
       "    <tr>\n",
       "      <th>2018-08-13 09:45:00</th>\n",
       "      <td>944.5</td>\n",
       "      <td>946.0</td>\n",
       "      <td>944.3</td>\n",
       "      <td>946.4</td>\n",
       "      <td>4254</td>\n",
       "    </tr>\n",
       "    <tr>\n",
       "      <th>2018-08-13 10:00:00</th>\n",
       "      <td>945.9</td>\n",
       "      <td>945.2</td>\n",
       "      <td>944.5</td>\n",
       "      <td>946.3</td>\n",
       "      <td>4336</td>\n",
       "    </tr>\n",
       "    <tr>\n",
       "      <th>...</th>\n",
       "      <td>...</td>\n",
       "      <td>...</td>\n",
       "      <td>...</td>\n",
       "      <td>...</td>\n",
       "      <td>...</td>\n",
       "    </tr>\n",
       "    <tr>\n",
       "      <th>2025-02-14 13:45:00</th>\n",
       "      <td>1343.0</td>\n",
       "      <td>1343.1</td>\n",
       "      <td>1341.1</td>\n",
       "      <td>1343.6</td>\n",
       "      <td>14055</td>\n",
       "    </tr>\n",
       "    <tr>\n",
       "      <th>2025-02-14 14:00:00</th>\n",
       "      <td>1343.0</td>\n",
       "      <td>1343.1</td>\n",
       "      <td>1341.3</td>\n",
       "      <td>1344.2</td>\n",
       "      <td>9851</td>\n",
       "    </tr>\n",
       "    <tr>\n",
       "      <th>2025-02-14 14:15:00</th>\n",
       "      <td>1343.0</td>\n",
       "      <td>1342.5</td>\n",
       "      <td>1340.3</td>\n",
       "      <td>1343.0</td>\n",
       "      <td>15941</td>\n",
       "    </tr>\n",
       "    <tr>\n",
       "      <th>2025-02-14 14:30:00</th>\n",
       "      <td>1342.5</td>\n",
       "      <td>1342.5</td>\n",
       "      <td>1342.5</td>\n",
       "      <td>1342.5</td>\n",
       "      <td>150</td>\n",
       "    </tr>\n",
       "    <tr>\n",
       "      <th>2025-02-14 14:45:00</th>\n",
       "      <td>1341.8</td>\n",
       "      <td>1341.8</td>\n",
       "      <td>1341.8</td>\n",
       "      <td>1341.8</td>\n",
       "      <td>5684</td>\n",
       "    </tr>\n",
       "  </tbody>\n",
       "</table>\n",
       "<p>228216 rows × 5 columns</p>\n",
       "</div>"
      ],
      "text/plain": [
       "                       Open   Close     Low    High  Volume\n",
       "Date                                                       \n",
       "2018-08-13 09:00:00   943.5   943.1   942.6   943.6    4342\n",
       "2018-08-13 09:15:00   943.1   945.3   942.3   945.9    5430\n",
       "2018-08-13 09:30:00   945.2   944.5   943.3   945.5    4933\n",
       "2018-08-13 09:45:00   944.5   946.0   944.3   946.4    4254\n",
       "2018-08-13 10:00:00   945.9   945.2   944.5   946.3    4336\n",
       "...                     ...     ...     ...     ...     ...\n",
       "2025-02-14 13:45:00  1343.0  1343.1  1341.1  1343.6   14055\n",
       "2025-02-14 14:00:00  1343.0  1343.1  1341.3  1344.2    9851\n",
       "2025-02-14 14:15:00  1343.0  1342.5  1340.3  1343.0   15941\n",
       "2025-02-14 14:30:00  1342.5  1342.5  1342.5  1342.5     150\n",
       "2025-02-14 14:45:00  1341.8  1341.8  1341.8  1341.8    5684\n",
       "\n",
       "[228216 rows x 5 columns]"
      ]
     },
     "execution_count": 10,
     "metadata": {},
     "output_type": "execute_result"
    }
   ],
   "source": [
    "_15m_data"
   ]
  },
  {
   "cell_type": "code",
   "execution_count": 11,
   "id": "9c560a6b-e32f-452d-8bbd-e3be54d8754a",
   "metadata": {},
   "outputs": [],
   "source": [
    "ato_data = _15m_data[(_15m_data.index.hour == 9) & (_15m_data.index.minute == 0)]"
   ]
  },
  {
   "cell_type": "markdown",
   "id": "20f677fd-9f8d-4c9e-bac5-2bb01852743b",
   "metadata": {},
   "source": [
    "## Group data by Long-Short-None"
   ]
  },
  {
   "cell_type": "code",
   "execution_count": 13,
   "id": "41648c8d-b85f-493c-8c71-1c21615fcd81",
   "metadata": {},
   "outputs": [],
   "source": [
    "def group_data(r):\n",
    "    group = 0\n",
    "    if r['Close'] > r['Open'] and r['Open'] - r['Low'] < 3.5:\n",
    "        # group = 'long'\n",
    "        group = 1\n",
    "    elif r['Close'] < r['Open'] and r['High'] - r['Open'] < 3.5:\n",
    "        # group = 'short'\n",
    "        group = 2\n",
    "    return group"
   ]
  },
  {
   "cell_type": "code",
   "execution_count": 14,
   "id": "35eefe01-089e-4d6d-b65a-753bf02b8b57",
   "metadata": {},
   "outputs": [],
   "source": [
    "ato_data['group'] = ato_data.apply(lambda r: group_data(r), axis=1)"
   ]
  },
  {
   "cell_type": "code",
   "execution_count": 16,
   "id": "88ff4436-9041-4281-b688-3a85fc6db41f",
   "metadata": {},
   "outputs": [
    {
     "data": {
      "text/plain": [
       "<Axes: xlabel='group'>"
      ]
     },
     "execution_count": 16,
     "metadata": {},
     "output_type": "execute_result"
    },
    {
     "data": {
      "image/png": "[encoded data removed]",
      "text/plain": [
       "<Figure size 1440x720 with 1 Axes>"
      ]
     },
     "metadata": {},
     "output_type": "display_data"
    }
   ],
   "source": [
    "group_data = ato_data.groupby(['group'])['group'].count().rename({'group': 'count'})\n",
    "group_data.plot.bar()"
   ]
  },
  {
   "cell_type": "code",
   "execution_count": null,
   "id": "9499846f-cb04-4f52-82df-bbf80946a787",
   "metadata": {},
   "outputs": [],
   "source": []
  }
 ],
 "metadata": {
  "kernelspec": {
   "display_name": "Python 3 (ipykernel)",
   "language": "python",
   "name": "python3"
  },
  "language_info": {
   "codemirror_mode": {
    "name": "ipython",
    "version": 3
   },
   "file_extension": ".py",
   "mimetype": "text/x-python",
   "name": "python",
   "nbconvert_exporter": "python",
   "pygments_lexer": "ipython3",
   "version": "3.11.4"
  }
 },
 "nbformat": 4,
 "nbformat_minor": 5
}
